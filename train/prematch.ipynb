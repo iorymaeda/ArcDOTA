{
 "cells": [
  {
   "cell_type": "code",
   "execution_count": 1,
   "id": "a948b652-726a-42cc-99d6-83465d01d573",
   "metadata": {},
   "outputs": [],
   "source": [
    "import sys; sys.path.append('../')\n",
    "import yaml\n",
    "import datetime\n",
    "import pickle\n",
    "\n",
    "import numpy as np\n",
    "import pandas as pd \n",
    "import matplotlib.pyplot as plt\n",
    "\n",
    "import torch\n",
    "import torchmetrics\n",
    "from torch.utils.data import DataLoader\n",
    "from torch.utils.tensorboard import SummaryWriter\n",
    "\n",
    "import utils"
   ]
  },
  {
   "cell_type": "code",
   "execution_count": 2,
   "id": "65c8bb0c-2586-43bf-b702-8e15946cffca",
   "metadata": {},
   "outputs": [],
   "source": [
    "device = 'cuda'\n",
    "batch_size = 1024"
   ]
  },
  {
   "cell_type": "code",
   "execution_count": 3,
   "id": "45df1b50-a27c-4f09-adfb-326b294a0676",
   "metadata": {
    "tags": []
   },
   "outputs": [],
   "source": [
    "def get_writer(name:str):\n",
    "    log_dir = f\"logs/fit/prematch/{name}\"\n",
    "    writer = SummaryWriter(log_dir, comment=datetime.datetime.now().strftime(\"%Y.%m.%d - %H:%M\"))\n",
    "    return writer"
   ]
  },
  {
   "cell_type": "code",
   "execution_count": 5,
   "id": "7bf21682-ad12-419c-a434-432e1f82f30e",
   "metadata": {
    "tags": []
   },
   "outputs": [],
   "source": [
    "train_df = pd.read_json(f'../parse/output/league/train_df.json')\n",
    "val_df = pd.read_json(f'../parse/output/league/val_df.json')\n",
    "test_df = pd.read_json(f'../parse/output/league/test_df.json')\n",
    "\n",
    "train_df['part'] = 'train'\n",
    "val_df['part'] = 'val'\n",
    "test_df['part'] = 'test'\n",
    "\n",
    "corpus = train_df.reset_index()\n",
    "train_dataset = utils.nn.datasets.LeagueDataset(\n",
    "    corpus=corpus, \n",
    "    indeces=corpus.index[(corpus['part'] == 'train')], \n",
    "    y_output='binary',\n",
    ").build()\n",
    "\n",
    "corpus = pd.concat([train_df, val_df]).reset_index()\n",
    "val_dataset = utils.nn.datasets.LeagueDataset(\n",
    "    corpus=corpus, \n",
    "    indeces=corpus.index[(corpus['part'] == 'val')], \n",
    "    y_output='binary',\n",
    ").build()\n",
    "\n",
    "corpus = pd.concat([train_df, val_df, test_df]).reset_index()\n",
    "test_dataset = utils.nn.datasets.LeagueDataset(\n",
    "    corpus=corpus, \n",
    "    indeces=corpus.index[(corpus['part'] == 'test')], \n",
    "    y_output='binary',\n",
    ").build()\n",
    "\n",
    "\n",
    "with open('output/train_cache.pkl', 'wb') as p:\n",
    "    pickle.dump(train_dataset.cache, p)\n",
    "    \n",
    "with open('output/val_cache.pkl', 'wb') as p:\n",
    "    pickle.dump(val_dataset.cache, p)\n",
    "    \n",
    "with open('output/test_cache.pkl', 'wb') as p:\n",
    "    pickle.dump(test_dataset.cache, p)"
   ]
  },
  {
   "cell_type": "code",
   "execution_count": 6,
   "id": "7c1eb92b-8ea4-4ec7-a0fd-e081cac47a3b",
   "metadata": {
    "tags": []
   },
   "outputs": [
    {
     "data": {
      "text/plain": [
       "<utils.nn.datasets.LeagueDataset at 0x23a5aa38400>"
      ]
     },
     "execution_count": 6,
     "metadata": {},
     "output_type": "execute_result"
    }
   ],
   "source": [
    "train_dataset = utils.nn.datasets.LeagueDataset(\n",
    "    corpus=None, \n",
    "    indeces=None, \n",
    "    y_output='binary')\n",
    "train_dataset.cache = pickle.load(open('output/train_cache.pkl', 'rb'))\n",
    "train_dataset.build()\n",
    "\n",
    "\n",
    "val_dataset = utils.nn.datasets.LeagueDataset(\n",
    "    corpus=None, \n",
    "    indeces=None, \n",
    "    y_output='binary')\n",
    "val_dataset.cache = pickle.load(open('output/val_cache.pkl', 'rb'))\n",
    "val_dataset.build()\n",
    "\n",
    "\n",
    "test_dataset = utils.nn.datasets.LeagueDataset(\n",
    "    corpus=None, \n",
    "    indeces=None, \n",
    "    y_output='binary')\n",
    "test_dataset.cache = pickle.load(open('output/test_cache.pkl', 'rb'))\n",
    "test_dataset.build()"
   ]
  },
  {
   "cell_type": "code",
   "execution_count": 146,
   "id": "683d096b-df0c-43b0-a4fd-fa21419e46a2",
   "metadata": {},
   "outputs": [],
   "source": [
    "import torch\n",
    "import torch.nn as nn\n",
    "import torch.nn.functional as F\n",
    "import pytorch_lightning as pl\n",
    "import torchsummary\n",
    "\n",
    "from utils.nn import blocks\n",
    "from utils.base import ConfigBase\n",
    "\n",
    "\n",
    "class PrematchModel(ConfigBase, nn.Module):\n",
    "    def __init__(self, teams_num, team_emb_dim=8, embed_dim=64, num_heads=4, num_encoder_layers=6, dropout=0.25):\n",
    "        super().__init__()\n",
    "        self.features_config = self.get_config('features')\n",
    "        self.models_config = self.get_config('models')\n",
    "\n",
    "        if self.features_config['league']['features']['tabular']['teams']:\n",
    "            self.team_embedding = nn.Embedding(teams_num+1, team_emb_dim)\n",
    "\n",
    "        self.windowedGamesFeatureEncoder = blocks.WindowedGamesFeatureEncoder(embed_dim, dropout)\n",
    "        self.transformer = nn.ModuleList(\n",
    "            [\n",
    "                blocks.TransformerEncoder(\n",
    "                    embed_dim=embed_dim, \n",
    "                    num_heads=num_heads, \n",
    "                    ff_dim=embed_dim, \n",
    "                    dropout=dropout,\n",
    "                ) for _ in range(num_encoder_layers)\n",
    "            ]\n",
    "        )\n",
    "\n",
    "        compare_fnn_embed_dim = embed_dim\n",
    "        if self.features_config['league']['features']['tabular']['teams']:\n",
    "            compare_fnn_embed_dim += team_emb_dim\n",
    "\n",
    "        self.compare_fnn = nn.Sequential(\n",
    "            nn.Linear(compare_fnn_embed_dim,    compare_fnn_embed_dim//2, bias=False), nn.Tanh(),\n",
    "            nn.Linear(compare_fnn_embed_dim//2, compare_fnn_embed_dim//2, bias=False), nn.Tanh(),\n",
    "            nn.Linear(compare_fnn_embed_dim//2, 1, bias=False),\n",
    "        )\n",
    "        \n",
    "\n",
    "    def forward(self, inputs: dict):\n",
    "        # --------------------------------------------------------- #\n",
    "        r_window, d_window = self.windowedGamesFeatureEncoder(inputs)\n",
    "\n",
    "        # --------------------------------------------------------- #\n",
    "        r_window = self.__forward_through_transformer(\n",
    "            window=r_window, \n",
    "            key_padding_mask=inputs['r_window']['padded_mask'])\n",
    "        d_window = self.__forward_through_transformer(\n",
    "            window=d_window, \n",
    "            key_padding_mask=inputs['d_window']['padded_mask'])\n",
    "\n",
    "        # --------------------------------------------------------- #\n",
    "        # pooled_r = torch.mean(r_window, dim=1)\n",
    "        # pooled_d = torch.mean(d_window, dim=1)\n",
    "        pooled_r = self.__global_avg_pooling(\n",
    "            window=r_window,\n",
    "            seq_len=inputs['r_window']['seq_len'],\n",
    "            key_padding_mask=inputs['r_window']['padded_mask'])\n",
    "        pooled_d = self.__global_avg_pooling(\n",
    "            window=r_window,\n",
    "            seq_len=inputs['d_window']['seq_len'],\n",
    "            key_padding_mask=inputs['d_window']['padded_mask'])  \n",
    "        \n",
    "        # --------------------------------------------------------- #\n",
    "        if self.features_config['league']['features']['tabular']['teams']:\n",
    "            team_r = self.team_embedding(inputs['teams']['radiant'])\n",
    "            pooled_r = torch.cat([pooled_r, team_r], dim=-1)\n",
    "\n",
    "            team_d = self.team_embedding(inputs['teams']['dire'])\n",
    "            pooled_d = torch.cat([pooled_d, team_d], dim=-1)\n",
    "        \n",
    "        # --------------------------------------------------------- #\n",
    "        compare = self.compare_fnn(pooled_r - pooled_d)\n",
    "\n",
    "        return compare\n",
    "\n",
    "\n",
    "    def __forward_through_transformer(self, window: torch.Tensor, key_padding_mask: torch.Tensor=None) -> torch.FloatTensor:\n",
    "        for layer in self.transformer:\n",
    "            # However a ``` `True` value indicates that the corresponding key value will be IGNORED ```\n",
    "            # for some reasons irl it's the other way around\n",
    "            window = layer(window, key_padding_mask=~key_padding_mask)\n",
    "\n",
    "        return window\n",
    "\n",
    "\n",
    "    def __global_avg_pooling(self, window: torch.Tensor, seq_len: torch.Tensor, key_padding_mask: torch.Tensor)  -> torch.FloatTensor:\n",
    "        # multiply window by mask - zeros all padded tokens\n",
    "        pooled = torch.mul(window, key_padding_mask.unsqueeze(2))\n",
    "        # |pooled| : (batch_size, seq_len, d_model)\n",
    "\n",
    "        # sum all elements by seq_len dim\n",
    "        pooled = pooled.sum(dim=1)\n",
    "        # |pooled| : (batch_size, d_model)\n",
    "\n",
    "        # divide samples by by its seq_len, so we will get mean values by each sample\n",
    "        pooled = pooled / seq_len.unsqueeze(1)\n",
    "        # |pooled| : (batch_size, d_model)\n",
    "        return pooled\n",
    "        \n",
    "\n",
    "    def configure_optimizers(self):\n",
    "        raise NotImplementedError(\"This is for torch lightning\")\n",
    "        optimizer = torch.optim.Adam(self.parameters(), lr=1e-3)\n",
    "        return optimizer\n",
    "\n",
    "\n",
    "    def training_step(self, train_batch: dict, batch_idx: int):\n",
    "        raise NotImplementedError(\"This is for torch lightning\")\n",
    "        out = self.forward(train_batch)    \n",
    "        loss = F.binary_cross_entropy_with_logits(out, train_batch['y'])\n",
    "        return loss\n",
    "\n",
    "    def summary(self):\n",
    "        torchsummary.summary(self)"
   ]
  },
  {
   "cell_type": "code",
   "execution_count": 261,
   "id": "ce92128d-8572-4e8a-ad02-055964a1e029",
   "metadata": {},
   "outputs": [
    {
     "name": "stderr",
     "output_type": "stream",
     "text": [
      "C:\\Users\\royta\\AppData\\Local\\Programs\\Python\\Python310\\lib\\site-packages\\torchmetrics\\utilities\\prints.py:36: UserWarning: Metric `AUROC` will save all targets and predictions in buffer. For large datasets this may lead to large memory footprint.\n",
      "  warnings.warn(*args, **kwargs)\n"
     ]
    }
   ],
   "source": [
    "name = f'test try {datetime.datetime.now().strftime(\"%Y.%m.%d - %H-%M\")}'\n",
    "\n",
    "train_loader = DataLoader(train_dataset, batch_size=batch_size, shuffle=False, num_workers=0)\n",
    "val_loader = DataLoader(val_dataset, batch_size=batch_size, shuffle=False, num_workers=0)\n",
    "test_loader = DataLoader(test_dataset, batch_size=batch_size, shuffle=False, num_workers=0)\n",
    "\n",
    "model = PrematchModel(\n",
    "    teams_num=train_df[['r_team_id', 'd_team_id']].max().max(),\n",
    "    team_emb_dim=4, \n",
    "    embed_dim=24,\n",
    "    num_encoder_layers=8,\n",
    "    num_heads=2,\n",
    "    dropout=0.2,\n",
    ")\n",
    "\n",
    "optimizer = torch.optim.Adam(model.parameters(), lr=1e-4, weight_decay=0.01)\n",
    "scheduler = utils.nn.shedulers.TransformerLRScheduler(\n",
    "    optimizer=optimizer,\n",
    "    init_lr=1e-6,\n",
    "    peak_lr=1e-4,\n",
    "    final_lr=1e-5,\n",
    "    final_lr_scale=0.05,\n",
    "    warmup_steps=2,\n",
    "    decay_steps=20,\n",
    ")\n",
    "\n",
    "trainer = utils.nn.trainers.PremtachTrainer(\n",
    "    model=model, \n",
    "    loss_fn=torch.nn.BCEWithLogitsLoss(), \n",
    "    sheduler=None,\n",
    "    optimizer=optimizer,\n",
    "    metric=torchmetrics.AUROC(num_classes=1),\n",
    "    device=device\n",
    ")\n",
    "\n",
    "writer = get_writer(name)"
   ]
  },
  {
   "cell_type": "code",
   "execution_count": 262,
   "id": "76bdc0e1-b728-43f7-ab41-1d186c619494",
   "metadata": {},
   "outputs": [
    {
     "name": "stdout",
     "output_type": "stream",
     "text": [
      "=====================================================================================\n",
      "Layer (type:depth-idx)                                       Param #\n",
      "=====================================================================================\n",
      "├─Embedding: 1-1                                             720\n",
      "├─WindowedGamesFeatureEncoder: 1-2                           --\n",
      "|    └─StatsEncoder: 2-1                                     --\n",
      "|    |    └─Linear: 3-1                                      600\n",
      "|    |    └─Linear: 3-2                                      600\n",
      "|    |    └─ModuleList: 3-3                                  1,080\n",
      "|    └─ResultEncoder: 2-2                                    --\n",
      "|    |    └─Embedding: 3-4                                   48\n",
      "|    └─Embedding: 2-3                                        792\n",
      "├─ModuleList: 1-3                                            --\n",
      "|    └─TransformerEncoder: 2-4                               --\n",
      "|    |    └─LayerNorm: 3-5                                   48\n",
      "|    |    └─LayerNorm: 3-6                                   48\n",
      "|    |    └─MultiheadAttention: 3-7                          2,400\n",
      "|    |    └─PositionWiseFeedForwardNetwork: 3-8              1,200\n",
      "|    └─TransformerEncoder: 2-5                               --\n",
      "|    |    └─LayerNorm: 3-9                                   48\n",
      "|    |    └─LayerNorm: 3-10                                  48\n",
      "|    |    └─MultiheadAttention: 3-11                         2,400\n",
      "|    |    └─PositionWiseFeedForwardNetwork: 3-12             1,200\n",
      "|    └─TransformerEncoder: 2-6                               --\n",
      "|    |    └─LayerNorm: 3-13                                  48\n",
      "|    |    └─LayerNorm: 3-14                                  48\n",
      "|    |    └─MultiheadAttention: 3-15                         2,400\n",
      "|    |    └─PositionWiseFeedForwardNetwork: 3-16             1,200\n",
      "|    └─TransformerEncoder: 2-7                               --\n",
      "|    |    └─LayerNorm: 3-17                                  48\n",
      "|    |    └─LayerNorm: 3-18                                  48\n",
      "|    |    └─MultiheadAttention: 3-19                         2,400\n",
      "|    |    └─PositionWiseFeedForwardNetwork: 3-20             1,200\n",
      "|    └─TransformerEncoder: 2-8                               --\n",
      "|    |    └─LayerNorm: 3-21                                  48\n",
      "|    |    └─LayerNorm: 3-22                                  48\n",
      "|    |    └─MultiheadAttention: 3-23                         2,400\n",
      "|    |    └─PositionWiseFeedForwardNetwork: 3-24             1,200\n",
      "|    └─TransformerEncoder: 2-9                               --\n",
      "|    |    └─LayerNorm: 3-25                                  48\n",
      "|    |    └─LayerNorm: 3-26                                  48\n",
      "|    |    └─MultiheadAttention: 3-27                         2,400\n",
      "|    |    └─PositionWiseFeedForwardNetwork: 3-28             1,200\n",
      "|    └─TransformerEncoder: 2-10                              --\n",
      "|    |    └─LayerNorm: 3-29                                  48\n",
      "|    |    └─LayerNorm: 3-30                                  48\n",
      "|    |    └─MultiheadAttention: 3-31                         2,400\n",
      "|    |    └─PositionWiseFeedForwardNetwork: 3-32             1,200\n",
      "|    └─TransformerEncoder: 2-11                              --\n",
      "|    |    └─LayerNorm: 3-33                                  48\n",
      "|    |    └─LayerNorm: 3-34                                  48\n",
      "|    |    └─MultiheadAttention: 3-35                         2,400\n",
      "|    |    └─PositionWiseFeedForwardNetwork: 3-36             1,200\n",
      "├─Sequential: 1-4                                            --\n",
      "|    └─Linear: 2-12                                          392\n",
      "|    └─Tanh: 2-13                                            --\n",
      "|    └─Linear: 2-14                                          196\n",
      "|    └─Tanh: 2-15                                            --\n",
      "|    └─Linear: 2-16                                          14\n",
      "=====================================================================================\n",
      "Total params: 34,010\n",
      "Trainable params: 34,010\n",
      "Non-trainable params: 0\n",
      "=====================================================================================\n"
     ]
    }
   ],
   "source": [
    "model.summary()"
   ]
  },
  {
   "cell_type": "code",
   "execution_count": 263,
   "id": "53b196de-6fbb-4198-b837-17579a7ba6a4",
   "metadata": {},
   "outputs": [
    {
     "name": "stdout",
     "output_type": "stream",
     "text": [
      "inf.auc=0.6235483870967742\n",
      "inf.accuracy=0.5185185185185186\n",
      "inf.precission=0.39473684210526316\n",
      "inf.recall=0.4838709677419355\n"
     ]
    }
   ],
   "source": [
    "try:\n",
    "    wait = 0\n",
    "    patience = 25\n",
    "\n",
    "    epoch = 0\n",
    "    best_loss = -np.inf\n",
    "    while wait < patience:\n",
    "        train_loss = trainer.train_epoch(train_loader)\n",
    "\n",
    "        val_pred, val_true = trainer.evaluate(val_loader)\n",
    "        val_pred, val_true = val_pred.sigmoid(), val_true.int()\n",
    "        _m = {\n",
    "            'AUC': torchmetrics.functional.auroc(val_pred, val_true),\n",
    "            'ACC': torchmetrics.functional.accuracy(val_pred, val_true),\n",
    "        }\n",
    "        writer.add_scalar('Loss/train', train_loss, epoch)\n",
    "        writer.add_scalar('AUC/train', trainer.metric.compute(), epoch)\n",
    "        writer.add_scalar('AUC/val', _m['AUC'], epoch)\n",
    "        writer.add_scalar('ACC/val', _m['ACC'], epoch)\n",
    "\n",
    "\n",
    "        wait+=1\n",
    "        epoch+=1\n",
    "        if _m['AUC'] > best_loss:\n",
    "            torch.save(trainer.checkpoint(), f'output/models_w/prematch/{name}.torch')\n",
    "            best_loss = _m['AUC']\n",
    "            wait = 0\n",
    "\n",
    "except KeyboardInterrupt:\n",
    "    print(\"KeyboardInterrupt\")\n",
    "    \n",
    "checkpoint = torch.load(f'output/models_w/prematch/{name}.torch')\n",
    "trainer.model.load_state_dict(checkpoint['model'])\n",
    "\n",
    "test_pred, test_true = trainer.evaluate(test_loader)\n",
    "test_pred, test_true = test_pred.sigmoid(), test_true.int()\n",
    "\n",
    "inf = BinaryINF(pd.DataFrame({\n",
    "    'y_pred': test_pred[:, 0],\n",
    "    'y_true': test_true[:, 0],\n",
    "}))\n",
    "\n",
    "print(f\"{inf.auc=}\\n{inf.accuracy=}\\n{inf.precission=}\\n{inf.recall=}\")"
   ]
  },
  {
   "cell_type": "code",
   "execution_count": 230,
   "id": "ec1b788d-e8da-4ecf-9dd6-28734d27f134",
   "metadata": {},
   "outputs": [
    {
     "name": "stdout",
     "output_type": "stream",
     "text": [
      "inf.auc=0.6932258064516129\n",
      "inf.accuracy=0.6296296296296297\n",
      "inf.precission=0.5106382978723404\n",
      "inf.recall=0.7741935483870968\n"
     ]
    }
   ],
   "source": [
    "print(f\"{inf.auc=}\\n{inf.accuracy=}\\n{inf.precission=}\\n{inf.recall=}\")"
   ]
  },
  {
   "cell_type": "code",
   "execution_count": 231,
   "id": "873c5d3c-a4a2-47f7-a950-95e5f5d7f98d",
   "metadata": {},
   "outputs": [],
   "source": [
    "from sklearn import metrics\n",
    "\n",
    "\n",
    "class BinaryINF():\n",
    "    def __init__(self, df: pd.DataFrame):\n",
    "        self.df = df\n",
    "        self.y_true, self.y_pred = df['y_true'].values, df['y_pred'].values\n",
    "        \n",
    "        self.balance = self.y_true.mean()\n",
    "        self.accuracy = self._accuracy(self.y_true, self.y_pred)\n",
    "        self.precission = self._precision(self.y_true, self.y_pred)\n",
    "        self.recall = self._recall(self.y_true, self.y_pred)\n",
    "        self.confusion_matrix = self._confusion_matrix(self.y_true, self.y_pred)\n",
    "        self.fpr, self.tpr, self.threshold, self.auc, self.eer = self._roc_auc(self.y_true, self.y_pred)\n",
    "        \n",
    "    def _roc_auc(self, y_true, y_pred):\n",
    "        fpr, tpr, threshold = metrics.roc_curve(y_true,  y_pred)\n",
    "\n",
    "        fnr = 1 - tpr\n",
    "        eer_threshold = threshold[np.nanargmin(np.absolute((fnr - fpr)))]\n",
    "        eer1, eer2 = fpr[np.nanargmin(np.absolute((fnr - fpr)))], fpr[np.nanargmin(np.absolute((fnr - fpr)))]\n",
    "        eer = (eer1+eer2)/2\n",
    "        \n",
    "        auc = metrics.roc_auc_score(y_true, y_pred)\n",
    "        return fpr, tpr, threshold, auc, eer\n",
    "        \n",
    "        \n",
    "    def _accuracy(self, y_true, y_pred):\n",
    "        return 1 - np.abs(np.round(y_pred) - y_true).sum()/len(y_true)\n",
    "    \n",
    "    \n",
    "    def _precision(self, y_true, y_pred):\n",
    "        \"\"\"Precision   можно   интерпретировать  как   долю \n",
    "        объектов,  названных классификатором положительными \n",
    "        и при этом действительно являющимися положительными\n",
    "        \"\"\"\n",
    "        return metrics.precision_score(y_true, np.around(y_pred))\n",
    "    \n",
    "    \n",
    "    def _recall(self, y_true, y_pred):\n",
    "        \"\"\"recall показывает, какую долю объектов \n",
    "        положительного  класса  из  всех объектов \n",
    "        положительного  класса   нашел   алгоритм\n",
    "        \"\"\"\n",
    "        return metrics.recall_score(y_true, np.around(y_pred))\n",
    "    \n",
    "    \n",
    "    def _confusion_matrix(self, y_true, y_pred):\n",
    "        return metrics.confusion_matrix(y_true, np.around(y_pred))\n",
    "    \n",
    "    \n",
    "    def comparison_curve(self):\n",
    "        \"\"\" df columns: y_true, y_pred, r_odd, d_odd, ID\"\"\"\n",
    "        values = self.df.values\n",
    "\n",
    "        b_curve = [0]\n",
    "        m_curve = [0]\n",
    "        for game in values:\n",
    "            # Chance to win Radiant/Dire\n",
    "            b_r, b_d = 1/game[2], 1/game[3]\n",
    "            m_r, m_d = game[1], 1-game[1]\n",
    "\n",
    "            if game[0] == 1:\n",
    "                if b_r > b_d: b_curve.append(b_curve[-1] + b_r)\n",
    "                else: b_curve.append(b_curve[-1] - b_r)\n",
    "\n",
    "                if m_r > m_d: m_curve.append(m_curve[-1] + m_r)\n",
    "                else: m_curve.append(m_curve[-1] - m_r)\n",
    "\n",
    "            elif game[0] == 0:\n",
    "                if b_r < b_d: b_curve.append(b_curve[-1] + b_d)\n",
    "                else: b_curve.append(b_curve[-1] - b_d)\n",
    "\n",
    "                if m_r < m_d: m_curve.append(m_curve[-1] + m_d)\n",
    "                else: m_curve.append(m_curve[-1] - m_d)\n",
    "\n",
    "        return b_curve, m_curve\n",
    "    \n",
    "    def against_book_curve(self):\n",
    "        \"\"\" df columns: y_true, y_pred, r_odd, d_odd, ID\"\"\"\n",
    "        values = self.df.values\n",
    "\n",
    "        bank = [100]\n",
    "        for game in values:\n",
    "            # Odds Radiant/Dire\n",
    "            r_odd, d_odd = game[2], game[3]\n",
    "            # Chance to win Radiant/Dire\n",
    "            r_chance, d_chance = game[1], 1-game[1]\n",
    "\n",
    "            # Place bet on raidnat\n",
    "            if r_chance >= d_chance:\n",
    "                # 10% of babk \n",
    "                bet = 10 * r_chance\n",
    "                # Add a profit\n",
    "                if game[0] == 1: bank.append(bank[-1] + bet*r_odd-bet)\n",
    "                else: bank.append(bank[-1] - bet)\n",
    "\n",
    "            elif r_chance < d_chance:\n",
    "                bet = 10 * d_chance\n",
    "                if game[0] == 0: bank.append(bank[-1] + bet*d_odd-bet)\n",
    "                else: bank.append(bank[-1] - bet)\n",
    "        return bank"
   ]
  },
  {
   "cell_type": "code",
   "execution_count": 232,
   "id": "4046b0dd-ab4b-4666-a601-92c19b00021b",
   "metadata": {},
   "outputs": [],
   "source": [
    "import seaborn as sns"
   ]
  },
  {
   "cell_type": "code",
   "execution_count": 264,
   "id": "6cadd15d-d8bb-42be-927f-43e9e60e0490",
   "metadata": {},
   "outputs": [
    {
     "data": {
      "text/plain": [
       "<seaborn.axisgrid.FacetGrid at 0x23b60d5dcf0>"
      ]
     },
     "execution_count": 264,
     "metadata": {},
     "output_type": "execute_result"
    },
    {
     "data": {
      "image/png": "[encoded data removed]",
      "text/plain": [
       "<Figure size 360x360 with 1 Axes>"
      ]
     },
     "metadata": {
      "needs_background": "light"
     },
     "output_type": "display_data"
    }
   ],
   "source": [
    "sns.displot(val_pred[:, 0])"
   ]
  },
  {
   "cell_type": "code",
   "execution_count": 265,
   "id": "e4b86d0f-4b2d-4876-a000-1476847d84c8",
   "metadata": {},
   "outputs": [
    {
     "data": {
      "text/plain": [
       "<seaborn.axisgrid.FacetGrid at 0x23b60d5d030>"
      ]
     },
     "execution_count": 265,
     "metadata": {},
     "output_type": "execute_result"
    },
    {
     "data": {
      "image/png": "[encoded data removed]",
      "text/plain": [
       "<Figure size 360x360 with 1 Axes>"
      ]
     },
     "metadata": {
      "needs_background": "light"
     },
     "output_type": "display_data"
    }
   ],
   "source": [
    "sns.displot(test_pred[:, 0])"
   ]
  },
  {
   "cell_type": "code",
   "execution_count": null,
   "id": "795e8ac5-e6d6-483e-ad8c-8db8b3406f82",
   "metadata": {},
   "outputs": [],
   "source": []
  }
 ],
 "metadata": {
  "kernelspec": {
   "display_name": "Python 3 (ipykernel)",
   "language": "python",
   "name": "python3"
  },
  "language_info": {
   "codemirror_mode": {
    "name": "ipython",
    "version": 3
   },
   "file_extension": ".py",
   "mimetype": "text/x-python",
   "name": "python",
   "nbconvert_exporter": "python",
   "pygments_lexer": "ipython3",
   "version": "3.10.4"
  }
 },
 "nbformat": 4,
 "nbformat_minor": 5
}
