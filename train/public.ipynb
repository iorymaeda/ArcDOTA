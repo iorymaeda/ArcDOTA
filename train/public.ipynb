{
 "cells": [
  {
   "cell_type": "code",
   "execution_count": 82,
   "id": "60da1f18-5b93-4a67-b68b-ff3b60aa6938",
   "metadata": {},
   "outputs": [],
   "source": [
    "import os\n",
    "import sys; sys.path.append('../')\n",
    "import json\n",
    "import time\n",
    "import math\n",
    "import pickle\n",
    "\n",
    "import numpy as np\n",
    "import pandas as pd\n",
    "import seaborn as sns\n",
    "import matplotlib.pyplot as plt\n",
    "import matplotlib; matplotlib.style.use('seaborn')\n",
    "from sklearn.preprocessing import PowerTransformer\n",
    "from sklearn.manifold import TSNE\n",
    "from sklearn.decomposition import PCA\n",
    "\n",
    "import utils\n",
    "\n",
    "\n",
    "RADIANT_SIDE = [0, 1, 2, 3, 4]\n",
    "DIRE_SIDE = [128, 129, 130, 131, 132]\n",
    "FEATURES = utils._typing.property.FEATURES"
   ]
  },
  {
   "cell_type": "code",
   "execution_count": 2,
   "id": "1f99a925-5b4b-47d0-93dc-3a0bc055eef4",
   "metadata": {},
   "outputs": [],
   "source": [
    "train_df = pd.read_json(f'../parse/output/public/train_df.json')\n",
    "val_df = pd.read_json(f'../parse/output/public/val_df.json')\n",
    "test_df = pd.read_json(f'../parse/output/public/test_df.json')"
   ]
  },
  {
   "cell_type": "code",
   "execution_count": 3,
   "id": "71d90069-2a30-4626-9cbf-e6d9de158139",
   "metadata": {},
   "outputs": [],
   "source": [
    "train_size = len(train_df)\n",
    "val_size = len(val_df)\n",
    "test_size = len(test_df)\n",
    "\n",
    "df = pd.concat([train_df, val_df, test_df], axis=0).reset_index()"
   ]
  },
  {
   "cell_type": "code",
   "execution_count": 4,
   "id": "c8b54c0d-4a22-45fa-95be-46b4e4acc192",
   "metadata": {
    "tags": []
   },
   "outputs": [],
   "source": [
    "with open(r'../scarpe/dotaconstants/build/hero_names.json', 'r') as f:\n",
    "    hero_json = json.load(f)\n",
    "\n",
    "id_to_hero = {hero_json[npc]['id']: hero_json[npc]['localized_name'] for npc in hero_json}\n",
    "id_to_hero[0] = 'SPECIAL TOKEN'\n",
    "\n",
    "players_regression_columns = [f'{_}_{f}' for _ in RADIANT_SIDE + DIRE_SIDE for f in FEATURES]\n",
    "teams_regression_columns = [f'{_}_{f}' for _ in 'rd' for f in FEATURES]\n",
    "\n",
    "p_columns = [f'{_}_account_id' for _ in RADIANT_SIDE + DIRE_SIDE]\n",
    "h_columns = [f'{_}_hero_id' for _ in RADIANT_SIDE + DIRE_SIDE]\n",
    "r_columns = [f'{_}_hero_role' for _ in RADIANT_SIDE + DIRE_SIDE]\n",
    "l_columns = [f'{_}_lane_role' for _ in RADIANT_SIDE + DIRE_SIDE]\n",
    "t_columns = [f'{_}_rank_tier' for _ in RADIANT_SIDE + DIRE_SIDE]"
   ]
  },
  {
   "cell_type": "code",
   "execution_count": 5,
   "id": "d3094b32-0bb2-4dc8-90bb-2302658f922c",
   "metadata": {
    "tags": []
   },
   "outputs": [],
   "source": [
    "t_arr = df[t_columns].values.astype('int64')\n",
    "h_arr = df[h_columns].values.astype('int64')\n",
    "p_arr = df[p_columns].values.astype('int64')\n",
    "\n",
    "\n",
    "# Players \n",
    "r_arr = df[r_columns].values.astype('int64')\n",
    "l_arr = df[l_columns].values.astype('int64') - 1\n",
    "\n",
    "num = len(players_regression_columns)//10\n",
    "players_regression_arr = df[players_regression_columns].values.astype('float32')\n",
    "players_regression_arr = np.concatenate(\n",
    "    [players_regression_arr[:, None, i*num:num*(i+1)] for i in range(10)], \n",
    "    axis=1\n",
    ")\n",
    "\n",
    "# Teams \n",
    "num = len(teams_regression_columns)//2\n",
    "teams_regression_arr = df[teams_regression_columns].values.astype('float32')\n",
    "teams_regression_arr = np.concatenate(\n",
    "    [teams_regression_arr[:, None, i*num:num*(i+1)] for i in range(2)], \n",
    "    axis=1\n",
    ")\n",
    "\n",
    "win_arr = df['radiant_win'].values\n",
    "win_arr = np.concatenate([win_arr[:, None], ~win_arr[:, None]], axis=-1).astype('float32')\n",
    "duration_arr = df['duration'].values.astype('float32')\n",
    "duration_arr = np.concatenate([duration_arr[:, None], duration_arr[:, None]], axis=-1).astype('float32')\n",
    "\n",
    "# Others\n",
    "matchIDArr = df['match_id'].values.astype('int64')"
   ]
  },
  {
   "cell_type": "code",
   "execution_count": 8,
   "id": "3e6ae0a2-1082-4381-9fa5-3c0826d2baac",
   "metadata": {
    "tags": []
   },
   "outputs": [],
   "source": [
    "flattenHeroesArr = h_arr.flatten()\n",
    "setHeroesArr = set(flattenHeroesArr)\n",
    "playedGamesH = {p:0 for p in setHeroesArr}\n",
    "for p in flattenHeroesArr:\n",
    "    playedGamesH[p] += 1\n",
    "\n",
    "heroesPlayedGames = pd.DataFrame(\n",
    "    data = list(playedGamesH.values()),\n",
    "    index = list(id_to_hero.values())[:-1],\n",
    "    columns = ['played_games']\n",
    ")\n",
    "\n",
    "fig, ax = plt.subplots(1, 1, figsize=(25, 25))\n",
    "sns.barplot(\n",
    "    x=heroesPlayedGames['played_games'], \n",
    "    y=heroesPlayedGames.index, \n",
    "    palette=\"Blues_d\",\n",
    "    ax=ax,\n",
    ")\n",
    "\n",
    "fig.savefig('output/heroes_pickrate', bbox_inches='tight')\n",
    "plt.close(fig)"
   ]
  },
  {
   "cell_type": "code",
   "execution_count": 9,
   "id": "5d3e1998-f7de-4b0c-9cd1-3bd352e03b2a",
   "metadata": {
    "tags": []
   },
   "outputs": [],
   "source": [
    "indexex = np.arange(0, len(df))\n",
    "test_indexes = indexex[-test_size:]\n",
    "val_indexes   = indexex[-(test_size+val_size):-test_size]\n",
    "train_indexes = indexex[:-(test_size+val_size)]"
   ]
  },
  {
   "cell_type": "code",
   "execution_count": 10,
   "id": "c7981191-628d-47e2-9f48-a967b880db2e",
   "metadata": {},
   "outputs": [],
   "source": [
    "heroes_ohe = np.zeros([h_arr.shape[0], h_arr.shape[1], h_arr.max()+1])\n",
    "\n",
    "for r_idx, row in enumerate(h_arr):\n",
    "    for c_idx, h_idx in enumerate(row):\n",
    "        heroes_ohe[r_idx, c_idx, h_idx] = 1"
   ]
  },
  {
   "cell_type": "code",
   "execution_count": 11,
   "id": "e45dbe0a-480b-4e3b-a4fa-2610048d1848",
   "metadata": {},
   "outputs": [],
   "source": [
    "Xtrain = players_regression_arr[train_indexes]\n",
    "Ytrain = heroes_ohe[train_indexes]\n",
    "\n",
    "Xval = players_regression_arr[val_indexes]\n",
    "Yval = heroes_ohe[val_indexes]\n",
    "\n",
    "Xtest = players_regression_arr[test_indexes]\n",
    "Ytest = heroes_ohe[test_indexes]"
   ]
  },
  {
   "cell_type": "code",
   "execution_count": 12,
   "id": "435ecdf3-b5f0-411d-a7ea-b792f4154534",
   "metadata": {
    "jupyter": {
     "source_hidden": true
    },
    "tags": []
   },
   "outputs": [],
   "source": [
    "# # --------------------------------------- #\n",
    "# Ytrain = [\n",
    "#     players_regression_arr[train_indexes],\n",
    "#     l_arr[train_indexes],\n",
    "#     r_arr[train_indexes],\n",
    "    \n",
    "#     teams_regression_arr[train_indexes],\n",
    "#     win_arr[train_indexes],\n",
    "#     duration_arr[train_indexes],\n",
    "#     np.concatenate([win_arr[:, None], win_arr[:, None]*-1+1], axis=1)[train_indexes],\n",
    "# ]\n",
    "\n",
    "# Xtrain = [\n",
    "#     h_arr[train_indexes],\n",
    "#     p_arr[train_indexes],\n",
    "#     t_arr[train_indexes],\n",
    "# ]\n",
    "# # --------------------------------------- #\n",
    "# Yval = [\n",
    "#     players_regression_arr[val_indexes],\n",
    "#     l_arr[val_indexes],\n",
    "#     r_arr[val_indexes],\n",
    "    \n",
    "#     teams_regression_arr[val_indexes],\n",
    "#     win_arr[val_indexes],\n",
    "#     duration_arr[val_indexes],\n",
    "#     np.concatenate([win_arr[:, None], win_arr[:, None]*-1+1], axis=1)[val_indexes],\n",
    "# ]\n",
    "\n",
    "# Xval = [\n",
    "#     h_arr[val_indexes],\n",
    "#     p_arr[val_indexes],\n",
    "#     t_arr[val_indexes],\n",
    "# ]\n",
    "# # --------------------------------------- #\n",
    "# Ytest = [\n",
    "#     players_regression_arr[test_indexes],\n",
    "#     l_arr[test_indexes],\n",
    "#     r_arr[test_indexes],\n",
    "    \n",
    "#     teams_regression_arr[test_indexes],\n",
    "#     win_arr[test_indexes],\n",
    "#     duration_arr[test_indexes],\n",
    "#     np.concatenate([win_arr[:, None], win_arr[:, None]*-1+1], axis=1)[test_indexes],\n",
    "# ]\n",
    "\n",
    "# Xtest = [\n",
    "#     h_arr[test_indexes],\n",
    "#     p_arr[test_indexes],\n",
    "#     t_arr[test_indexes],\n",
    "# ]"
   ]
  },
  {
   "cell_type": "markdown",
   "id": "ced81f17-6465-406b-b7aa-2205bf33f703",
   "metadata": {
    "tags": []
   },
   "source": [
    "# MODEL PART"
   ]
  },
  {
   "cell_type": "code",
   "execution_count": 13,
   "id": "fdfc584b-5077-4bb1-b1c5-bfeaed887778",
   "metadata": {
    "tags": []
   },
   "outputs": [],
   "source": [
    "import datetime\n",
    "\n",
    "import tensorflow as tf\n",
    "import tensorflow_addons as tfa\n",
    "from tensorflow import keras\n",
    "from tensorflow.keras import backend as K\n",
    "from tensorflow.keras import Input\n",
    "from sklearn import metrics\n",
    "\n",
    "from transformers import AdamWeightDecay "
   ]
  },
  {
   "cell_type": "markdown",
   "id": "999c9c75-1134-4a66-8d2e-820b84a15f6b",
   "metadata": {},
   "source": [
    "#### inf"
   ]
  },
  {
   "cell_type": "code",
   "execution_count": 14,
   "id": "c35dd0a3-e0b0-4759-94c5-e331a986b292",
   "metadata": {
    "jupyter": {
     "source_hidden": true
    },
    "tags": []
   },
   "outputs": [],
   "source": [
    "def inf(y_true, y_pred, window = 0.05):\n",
    "    import seaborn as sns\n",
    "    from sklearn import metrics\n",
    "    from matplotlib import pyplot as plt\n",
    "    \n",
    "    \n",
    "    assert len(y_true) == len(y_pred), 'y_true != y_pred'\n",
    "\n",
    "    try:\n",
    "        y_true = y_true[:, 0]\n",
    "    except:\n",
    "        pass\n",
    "    try:\n",
    "        y_pred = y_pred[:, 0]\n",
    "    except:\n",
    "        pass\n",
    "    \n",
    "    def accuracy(y_true, y_pred):\n",
    "        return 1 - np.abs(np.round(y_pred) - y_true).sum()/len(y_true)\n",
    "\n",
    "\n",
    "    def delta_probability_mean_score(y_true, y_pred, d1, d2):\n",
    "        \"\"\" Calculate probability_mean_score in window from d1 to d2\n",
    "        for example:\n",
    "            d1 = 0.\n",
    "            d2 = 0.5\n",
    "        this will calculate probability_mean_score from this window (probability_mean_score for 0 label)\n",
    "        \"\"\"\n",
    "        if d2 < d1:\n",
    "            d2, d1 = d1, d2\n",
    "        arr = y_true[(y_pred >= d1) & (y_pred <= d2)] - y_pred[(y_pred >= d1) & (y_pred <= d2)]\n",
    "        return (arr.sum()/len(arr))*100\n",
    "\n",
    "\n",
    "    def delta_accuracy(y_true, y_pred, d1, d2):    \n",
    "        if d2 < d1:\n",
    "            d2, d1 = d1, d2\n",
    "        y_true, y_pred = y_true[(y_pred >= d1) & (y_pred <= d2)], y_pred[(y_pred >= d1) & (y_pred <= d2)]\n",
    "\n",
    "        if len(y_pred) == 0:\n",
    "            return None, None\n",
    "        else:\n",
    "            return accuracy(y_true, y_pred), len(y_pred)\n",
    "\n",
    "    fig, axes = plt.subplots(1, 2, figsize=(15, 5))\n",
    "    fpr, tpr, threshold = metrics.roc_curve(y_true,  y_pred)\n",
    "    auc = metrics.roc_auc_score(y_true, y_pred)\n",
    "    print('Balance Y :', round(np.array(y_true).sum()/len(y_true), 3))\n",
    "    print('Accuracy  :', round(accuracy(y_true, y_pred), 3))\n",
    "    print('Precision :', round(metrics.precision_score(y_true, np.around(y_pred)), 3))\n",
    "    print('Recall    :', round(metrics.recall_score(y_true, np.around(y_pred)), 3))\n",
    "    print('AUC       :', round(auc, 3))\n",
    "    print()\n",
    "    print('Confusion matrix')\n",
    "    print(metrics.confusion_matrix(y_true, np.around(y_pred)))\n",
    "    print()\n",
    "    \n",
    "\n",
    "    sns.histplot(y_pred, bins = 100, ax = axes[0])\n",
    "    axes[1].plot(fpr,tpr,label=\"data 1, auc=\"+str(auc))\n",
    "    axes[1].legend(loc=4)\n",
    "    \n",
    "    best_model = pd.DataFrame()\n",
    "    delta = np.arange(0., 1.0, window)\n",
    "    # we will collect abs score in this list, then we calculate average score \n",
    "    abs_score_list = []\n",
    "    \n",
    "    pred_len = len(y_pred)\n",
    "    for d in delta:\n",
    "        acc, samples = delta_accuracy(y_true, y_pred, d, d + window)\n",
    "        if samples != None:\n",
    "            score = round(delta_probability_mean_score(y_true, y_pred, d, d + window), 1)\n",
    "\n",
    "            if d < 0.5:\n",
    "                column = f\"{int(100 - round(d, 2)*100)}% - {int(100 - round(d+window, 2)*100)} %\"\n",
    "            else:\n",
    "                column = f\"{int(round(d, 2)*100)}% - {int(round(d+window, 2)*100)} %\"\n",
    "\n",
    "            best_model.loc['Accuracy', column] = str(round(acc*100, 2)) + ' %'\n",
    "            best_model.loc['Mean porabalistic error', column] = str(round(score, 3))\n",
    "            best_model.loc['Samples%', column] = str(int(samples*100/pred_len)) \n",
    "            best_model.loc['Samples', column] = str(samples)\n",
    "\n",
    "\n",
    "            abs_score_list.append(abs(score))\n",
    "\n",
    "    print(f\"Abs probability_mean_score per windows: {round(np.array(abs_score_list).mean(), 3)}\")\n",
    "    print('Number of predictions :', pred_len)\n",
    "    print()\n",
    "    \n",
    "    display(best_model)\n",
    "    plt.show()"
   ]
  },
  {
   "cell_type": "markdown",
   "id": "092ebb9f-7f7d-44ba-b4e5-73855f7f84cf",
   "metadata": {},
   "source": [
    "#### CustomMetricCheckpoint"
   ]
  },
  {
   "cell_type": "code",
   "execution_count": 67,
   "id": "417a3cee-d51b-4c4a-bddb-aa9c207fa852",
   "metadata": {
    "tags": []
   },
   "outputs": [],
   "source": [
    "class CustomCheckpoint(keras.callbacks.Callback):\n",
    "    def __init__(self, board_name, monitor, mode, path):\n",
    "        super(CustomCheckpoint, self).__init__()\n",
    "        self.board_name = board_name\n",
    "        self.monitor = monitor\n",
    "        self.mode = mode\n",
    "        self.path = path\n",
    "        \n",
    "        self.best = -np.inf if mode == 'max' else np.inf\n",
    "\n",
    "    def _save(self):\n",
    "        self.model.save(self.path + self.board_name + f'_{self.monitor}.h5', include_optimizer=False)\n",
    "        \n",
    "    def on_epoch_end(self, epoch, logs=None):\n",
    "        l = logs.get(self.monitor)\n",
    "        if self.mode == 'max':\n",
    "            if l > self.best:\n",
    "                self.best = l\n",
    "                self._save()\n",
    "                \n",
    "        if self.mode == 'min':\n",
    "            if l < self.best:\n",
    "                self.best = l\n",
    "                self._save()"
   ]
  },
  {
   "cell_type": "code",
   "execution_count": 68,
   "id": "8634916b-8612-4918-86f7-57402635a9ea",
   "metadata": {
    "jupyter": {
     "source_hidden": true
    },
    "tags": []
   },
   "outputs": [
    {
     "data": {
      "text/plain": [
       "[<matplotlib.lines.Line2D at 0x285988afdc0>]"
      ]
     },
     "execution_count": 68,
     "metadata": {},
     "output_type": "execute_result"
    },
    {
     "data": {
      "image/png": "[encoded data removed]",
      "text/plain": [
       "<Figure size 576x396 with 1 Axes>"
      ]
     },
     "metadata": {},
     "output_type": "display_data"
    }
   ],
   "source": [
    "def scheduler(step):\n",
    "    step+=1\n",
    "    arg1 = np.reciprocal(np.sqrt(step))\n",
    "    arg2 = step * (14 ** -1.1)\n",
    "    value = (np.reciprocal(np.sqrt(18)) * np.minimum(arg1, arg2)) * 5e-3\n",
    "    return value\n",
    "\n",
    "lr_schedule = keras.callbacks.LearningRateScheduler(scheduler)\n",
    "epochs = [scheduler(x) for x in range(50)]\n",
    "plt.plot(epochs)"
   ]
  },
  {
   "cell_type": "markdown",
   "id": "36343f3c-5543-41fd-9d73-989495521a2f",
   "metadata": {
    "tags": []
   },
   "source": [
    "### TransformerBlock"
   ]
  },
  {
   "cell_type": "code",
   "execution_count": 17,
   "id": "91c7191c-579e-408d-b39e-79edf8f2740c",
   "metadata": {
    "jupyter": {
     "source_hidden": true
    },
    "tags": []
   },
   "outputs": [],
   "source": [
    "class TransformerBlock(keras.layers.Layer):\n",
    "    def __init__(self, embed_dim, num_heads, ff_dim, rate=0.15, name = None, **kwargs):\n",
    "        super(TransformerBlock, self).__init__(name=name)\n",
    "        self.embed_dim = embed_dim\n",
    "        self.num_heads = num_heads\n",
    "        self.ff_dim = ff_dim\n",
    "        self.rate = rate\n",
    "        \n",
    "        self.att = keras.layers.MultiHeadAttention(num_heads=self.num_heads, key_dim=self.embed_dim)\n",
    "        self.ffn = keras.Sequential(\n",
    "            [\n",
    "                keras.layers.Dense(self.ff_dim, activation = 'gelu'),\n",
    "                keras.layers.Dropout(self.rate),\n",
    "                keras.layers.Dense(self.embed_dim),\n",
    "            ]\n",
    "        )\n",
    "        self.layernorm1 = keras.layers.LayerNormalization(epsilon=1e-6)\n",
    "        self.layernorm2 = keras.layers.LayerNormalization(epsilon=1e-6)\n",
    "\n",
    "        \n",
    "    def call(self, inputs, training=None):\n",
    "        attn_output = self.att(\n",
    "            query=inputs, \n",
    "            value=inputs, \n",
    "            key=inputs,\n",
    "        )\n",
    "        norm1 = self.layernorm1(inputs + attn_output)\n",
    "        ffn_output = self.ffn(norm1, training=training)\n",
    "        norm2 = self.layernorm2(norm1 + ffn_output)\n",
    "        return norm2\n",
    "    \n",
    "    \n",
    "    def get_config(self):\n",
    "        config = {'embed_dim': self.embed_dim,\n",
    "                  'num_heads': self.num_heads,\n",
    "                  'ff_dim'   : self.ff_dim,\n",
    "                  'rate'     : self.rate}\n",
    "        return config"
   ]
  },
  {
   "cell_type": "markdown",
   "id": "880f01ec-8c0a-459f-ba00-a4f6f4afb62b",
   "metadata": {
    "tags": []
   },
   "source": [
    "### AttentionBlock"
   ]
  },
  {
   "cell_type": "code",
   "execution_count": 18,
   "id": "bacd43bc-4711-4093-b767-51b127efbdf6",
   "metadata": {
    "jupyter": {
     "source_hidden": true
    },
    "tags": []
   },
   "outputs": [],
   "source": [
    "class AttentionBlock(keras.layers.Layer):\n",
    "    def __init__(self, embed_dim, num_heads, ff_dim, rate=0.15, name = None, **kwargs):\n",
    "        super(AttentionBlock, self).__init__(name=name)\n",
    "        self.embed_dim = embed_dim\n",
    "        self.num_heads = num_heads\n",
    "        self.ff_dim = ff_dim\n",
    "        self.rate = rate\n",
    "        \n",
    "        self.layernorm = keras.layers.LayerNormalization(epsilon=1e-6)\n",
    "        self.att = keras.layers.MultiHeadAttention(num_heads=self.num_heads, key_dim=self.embed_dim)\n",
    "        self.ffn = keras.Sequential(\n",
    "            [\n",
    "                keras.layers.Dense(self.ff_dim, activation = 'gelu'),\n",
    "                keras.layers.Dropout(self.rate),\n",
    "                keras.layers.Dense(self.embed_dim),\n",
    "            ]\n",
    "        )\n",
    "\n",
    "        \n",
    "    def call(self, radiant, dire, training=None):\n",
    "        radiant_ = self.att(\n",
    "            query=radiant,\n",
    "            value=dire,\n",
    "            key=dire,\n",
    "        )\n",
    "        dire_ = self.att(\n",
    "            query=dire,\n",
    "            value=radiant,\n",
    "            key=radiant,\n",
    "        )\n",
    "        \n",
    "        radiant = self.ffn(radiant_) + radiant\n",
    "        dire = self.ffn(dire_) + dire\n",
    "        \n",
    "        radiant = self.layernorm(radiant)\n",
    "        dire = self.layernorm(dire)\n",
    "        \n",
    "        return radiant, dire\n",
    "    \n",
    "    \n",
    "    def get_config(self):\n",
    "        config = {'embed_dim': self.embed_dim,\n",
    "                  'num_heads': self.num_heads,\n",
    "                  'ff_dim'   : self.ff_dim,\n",
    "                  'rate'     : self.rate}\n",
    "        return config"
   ]
  },
  {
   "cell_type": "markdown",
   "id": "7afe2682-5c6b-4e4c-8a7f-dcfb0d44afb6",
   "metadata": {
    "tags": []
   },
   "source": [
    "### EmbBlock"
   ]
  },
  {
   "cell_type": "code",
   "execution_count": 19,
   "id": "1bbed2a7-f2c5-4086-b05e-6fc385dbe0ee",
   "metadata": {
    "jupyter": {
     "source_hidden": true
    },
    "tags": []
   },
   "outputs": [],
   "source": [
    "class EmbBlock(keras.layers.Layer):\n",
    "    def __init__(self, in_dim, out_dim, name=None, **kwargs):\n",
    "        super(EmbBlock, self).__init__(name=name)\n",
    "        self.in_dim  = in_dim\n",
    "        self.out_dim = out_dim       \n",
    "        \n",
    "        self.positions = tf.cast([[0, 0, 0, 0, 0, 1, 1, 1, 1, 1]], dtype='int32')\n",
    "        \n",
    "        self.ranks_emb = keras.layers.Embedding(10, self.in_dim)\n",
    "        self.pos_emb   = keras.layers.Embedding(2, self.in_dim)\n",
    "        \n",
    "        self.ffn_layer = keras.layers.Dense(self.in_dim)\n",
    "        self.dropout   = keras.layers.Dropout(0.2)\n",
    "        self.layer     = keras.layers.Dense(self.out_dim, activation = 'gelu')\n",
    "        \n",
    "    def call(self, players, heroes, ranks, training=None):\n",
    "        pos = self.pos_emb(self.positions)\n",
    "        pos = tf.repeat(pos, tf.shape(players)[0], axis = 0)\n",
    "        \n",
    "        ranks_r = ranks[:, :5]//10\n",
    "        ranks_d = ranks[:, 5:]//10    \n",
    "        ranks_r = self.ranks_emb(ranks_r)\n",
    "        ranks_d = self.ranks_emb(ranks_d)\n",
    "        ranks = tf.concat([ranks_r, ranks_d], axis=1)\n",
    "        \n",
    "    \n",
    "        x = self.ffn_layer(\n",
    "            tf.concat([players, heroes], axis=-1)\n",
    "        )\n",
    "        x = x + ranks + pos\n",
    "        x = self.layer(x)\n",
    "        \n",
    "        radiant, dire = x[:, :5], x[:, 5:]\n",
    "        return radiant, dire\n",
    "    \n",
    "    def get_config(self):\n",
    "        config = {'in_dim': self.in_dim,\n",
    "                  'out_dim': self.out_dim}\n",
    "        return config"
   ]
  },
  {
   "cell_type": "markdown",
   "id": "f7d3511d-d520-47c6-8b7c-e8e8a55a277d",
   "metadata": {
    "tags": []
   },
   "source": [
    "### Masking"
   ]
  },
  {
   "cell_type": "code",
   "execution_count": 20,
   "id": "70b93c99-c215-4f5b-884d-f31380f73110",
   "metadata": {
    "jupyter": {
     "source_hidden": true
    },
    "tags": []
   },
   "outputs": [],
   "source": [
    "class Masking(keras.layers.Layer):\n",
    "    def __init__(self, rate=0.01, name=None, **kwargs):\n",
    "        super(Masking, self).__init__(name=name)\n",
    "        self.rate  = rate\n",
    "        \n",
    "    def call(self, x, training=None):\n",
    "        if training and self.trainable:\n",
    "            # > rate cause tf.where works stupid\n",
    "            inp_mask = tf.random.uniform(tf.shape(x)) > self.rate\n",
    "            x = tf.where(inp_mask, x, 0)\n",
    "        return x\n",
    "    \n",
    "    def get_config(self):\n",
    "        return {'rate': self.rate}"
   ]
  },
  {
   "cell_type": "markdown",
   "id": "41cfabc7-e408-43d2-9eda-5b9ff4c1ca56",
   "metadata": {},
   "source": [
    "### PosEncoding"
   ]
  },
  {
   "cell_type": "code",
   "execution_count": 21,
   "id": "5150f71f-90b6-41a5-bd19-7ea98fd6c961",
   "metadata": {
    "jupyter": {
     "source_hidden": true
    },
    "tags": []
   },
   "outputs": [],
   "source": [
    "class PosEncoding(keras.layers.Layer):\n",
    "    def __init__(self, embed_dim, name=None, **kwargs):\n",
    "        super(PosEncoding, self).__init__(name=name)\n",
    "        self.embed_dim = embed_dim\n",
    "        self.positions = tf.cast([[0, 0, 0, 0, 0, 1, 1, 1, 1, 1]], dtype='int32')\n",
    "        self.pos_emb   = keras.layers.Embedding(2, self.embed_dim)\n",
    "        \n",
    "    def call(self, x, training=None):\n",
    "        pos = self.pos_emb(self.positions)\n",
    "        pos = tf.repeat(pos, tf.shape(x)[0], axis = 0)\n",
    "        return x + pos\n",
    "    \n",
    "    def get_config(self):\n",
    "        config = {'embed_dim': self.embed_dim}\n",
    "        return config"
   ]
  },
  {
   "cell_type": "markdown",
   "id": "d85849e9-ce9c-46a8-b725-7c60955059f5",
   "metadata": {},
   "source": [
    "### ArcLayer"
   ]
  },
  {
   "cell_type": "code",
   "execution_count": 144,
   "id": "e20216cc-c71a-4c1a-ab86-fdd21a3ff8c9",
   "metadata": {
    "tags": []
   },
   "outputs": [],
   "source": [
    "class ArcLayer(keras.layers.Layer):\n",
    "    def __init__(self, units, kernel_regularizer=None, **kwargs):\n",
    "        super(ArcLayer, self).__init__(**kwargs)\n",
    "        self.units = units\n",
    "        self.kernel_regularizer = kernel_regularizer\n",
    "        \n",
    "    def build(self, input_shape):\n",
    "        self.kernel = self.add_weight(\n",
    "            shape=[input_shape[-1], self.units],\n",
    "            dtype=tf.float32,\n",
    "            initializer=keras.initializers.HeNormal(),\n",
    "            regularizer=self.kernel_regularizer,\n",
    "            trainable=True,\n",
    "            name='kernel',\n",
    "        )\n",
    "        self.built = True\n",
    "        \n",
    "    @tf.function\n",
    "    def call(self, inputs):\n",
    "        weights = tf.nn.l2_normalize(self.kernel, axis=0)\n",
    "        return tf.matmul(inputs, weights)\n",
    "    \n",
    "    def get_config(self):\n",
    "        config = super().get_config()\n",
    "        config.update({\n",
    "            \"units\": self.units,\n",
    "            \"kernel_regularizer\": self.kernel_regularizer,\n",
    "        })\n",
    "        return config"
   ]
  },
  {
   "cell_type": "markdown",
   "id": "644e6063-cfb6-41a1-a5e8-30c1906dbc2b",
   "metadata": {},
   "source": [
    "### ArcLoss"
   ]
  },
  {
   "cell_type": "code",
   "execution_count": 162,
   "id": "77be0794-3333-4d8f-af86-c8348fc2b523",
   "metadata": {
    "tags": []
   },
   "outputs": [],
   "source": [
    "class ArcLoss(tf.keras.losses.Loss):\n",
    "    \"\"\"Additive angular margin loss.\n",
    "    \n",
    "    ArcFace: Additive Angular Margin Loss for Deep Face Recognition:\n",
    "        https://arxiv.org/pdf/1801.07698.pdf\n",
    "    \"\"\"\n",
    "\n",
    "    def __init__(self, margin=0.5, scale=64, name=\"arcloss\"):\n",
    "        \"\"\"Build an additive angular margin loss object for Keras model.\"\"\"\n",
    "        super().__init__(name=name)\n",
    "        self.margin = margin\n",
    "        self.scale = scale\n",
    "        self.threshold = tf.math.cos(math.pi - margin)\n",
    "        self.cos_m = tf.math.cos(margin)\n",
    "        self.sin_m = tf.math.sin(margin)\n",
    "\n",
    "        # Safe margin: https://github.com/deepinsight/insightface/issues/108\n",
    "        self.safe_margin = self.sin_m * margin\n",
    "\n",
    "    @tf.function\n",
    "    def call(self, y_true, y_pred):\n",
    "        shape = tf.shape(y_true)\n",
    "        b, t, n = shape[0], shape[1], shape[2]\n",
    "        y_true = tf.reshape(y_true, [b*t, n])\n",
    "        y_pred = tf.reshape(y_pred, [b*t, n])\n",
    "        # |x|: (B, 10, N) -> (B*10, N)\n",
    "        # B - batch size\n",
    "        # 10 - num of players in match\n",
    "        # N - num of heroes in dota\n",
    "        \n",
    "        # ------------------------------------------- #\n",
    "        # Calculate the cosine value of theta + margin.\n",
    "        cos_t = y_pred\n",
    "        sin_t = tf.math.sqrt(1 - tf.math.square(cos_t))\n",
    "\n",
    "        cos_t_margin = tf.where(cos_t > self.threshold,\n",
    "                                cos_t * self.cos_m - sin_t * self.sin_m,\n",
    "                                cos_t - self.safe_margin)\n",
    "\n",
    "        # The labels here had already been onehot encoded.\n",
    "        mask = y_true\n",
    "        cos_t_onehot = cos_t * mask\n",
    "        cos_t_margin_onehot = cos_t_margin * mask\n",
    "\n",
    "        # Calculate the final scaled logits.\n",
    "        logits = (cos_t + cos_t_margin_onehot - cos_t_onehot) * self.scale\n",
    "\n",
    "        losses = tf.nn.softmax_cross_entropy_with_logits(y_true, logits)\n",
    "\n",
    "        return losses\n",
    "\n",
    "    def get_config(self):\n",
    "        config = super(ArcLoss, self).get_config()\n",
    "        config.update({\"margin\": self.margin, \"scale\": self.scale})\n",
    "        return config"
   ]
  },
  {
   "cell_type": "markdown",
   "id": "ed88c514-2f78-463e-b27a-5f68ec04a108",
   "metadata": {},
   "source": [
    "### L2Normalization"
   ]
  },
  {
   "cell_type": "code",
   "execution_count": 169,
   "id": "88bc7d55-bdb0-4f8e-99db-0ac254de8957",
   "metadata": {},
   "outputs": [],
   "source": [
    "class L2Normalization(keras.layers.Layer):\n",
    "    def __init__(self, **kwargs):\n",
    "        super().__init__(**kwargs)\n",
    "        \n",
    "    @tf.function\n",
    "    def call(self, inputs):\n",
    "        inputs = tf.nn.l2_normalize(inputs, axis=0)\n",
    "        return inputs\n",
    "    \n",
    "    def get_config(self):\n",
    "        config = super().get_config()\n",
    "        return config"
   ]
  },
  {
   "cell_type": "code",
   "execution_count": 170,
   "id": "b4d034ce-ed76-45e8-a175-55b035a64179",
   "metadata": {},
   "outputs": [],
   "source": [
    "custom_objects = {\n",
    "    'Masking': Masking,\n",
    "    'EmbBlock': EmbBlock,\n",
    "    'TransformerBlock': TransformerBlock,\n",
    "    'AttentionBlock': AttentionBlock,\n",
    "    'PosEncoding': PosEncoding,\n",
    "    'ArcLayer': ArcLayer,\n",
    "    'ArcLoss': ArcLoss,\n",
    "    'L2Normalization': L2Normalization\n",
    "}"
   ]
  },
  {
   "cell_type": "code",
   "execution_count": 171,
   "id": "6643545e-3c8d-460b-a15a-9457c2ead8dd",
   "metadata": {},
   "outputs": [
    {
     "data": {
      "text/plain": [
       "(25.592967784139454, 11.74734012447073)"
      ]
     },
     "execution_count": 171,
     "metadata": {},
     "output_type": "execute_result"
    }
   ],
   "source": [
    "(p_arr.max()+1)**0.5, (h_arr.max()+1)**0.5"
   ]
  },
  {
   "cell_type": "markdown",
   "id": "e0fa87ae-3826-4f05-9b93-a14f990e44fe",
   "metadata": {},
   "source": [
    "# Perfomance -> heroes"
   ]
  },
  {
   "cell_type": "code",
   "execution_count": 264,
   "id": "b3b1f9f5-715c-4559-ace7-52aebb2d2646",
   "metadata": {
    "tags": []
   },
   "outputs": [
    {
     "name": "stdout",
     "output_type": "stream",
     "text": [
      "Model: \"model\"\n",
      "__________________________________________________________________________________________________\n",
      " Layer (type)                   Output Shape         Param #     Connected to                     \n",
      "==================================================================================================\n",
      " per_hero_regression_input (Inp  [(None, 10, 14)]    0           []                               \n",
      " utLayer)                                                                                         \n",
      "                                                                                                  \n",
      " sequential (Sequential)        (None, 10, 64)       5248        ['per_hero_regression_input[0][0]\n",
      "                                                                 ']                               \n",
      "                                                                                                  \n",
      " PosEncding (PosEncoding)       (None, 10, 64)       128         ['sequential[0][0]']             \n",
      "                                                                                                  \n",
      " self_attention_block0 (Transfo  (None, 10, 64)      149504      ['PosEncding[0][0]']             \n",
      " rmerBlock)                                                                                       \n",
      "                                                                                                  \n",
      " self_attention_block1 (Transfo  (None, 10, 64)      149504      ['self_attention_block0[0][0]']  \n",
      " rmerBlock)                                                                                       \n",
      "                                                                                                  \n",
      " self_attention_block2 (Transfo  (None, 10, 64)      149504      ['self_attention_block1[0][0]']  \n",
      " rmerBlock)                                                                                       \n",
      "                                                                                                  \n",
      " self_attention_block3 (Transfo  (None, 10, 64)      149504      ['self_attention_block2[0][0]']  \n",
      " rmerBlock)                                                                                       \n",
      "                                                                                                  \n",
      " tf.__operators__.add (TFOpLamb  (None, 10, 64)      0           ['self_attention_block3[0][0]',  \n",
      " da)                                                              'self_attention_block0[0][0]']  \n",
      "                                                                                                  \n",
      " self_attention_block4 (Transfo  (None, 10, 64)      149504      ['tf.__operators__.add[0][0]']   \n",
      " rmerBlock)                                                                                       \n",
      "                                                                                                  \n",
      " self_attention_block5 (Transfo  (None, 10, 64)      149504      ['self_attention_block4[0][0]']  \n",
      " rmerBlock)                                                                                       \n",
      "                                                                                                  \n",
      " self_attention_block6 (Transfo  (None, 10, 64)      149504      ['self_attention_block5[0][0]']  \n",
      " rmerBlock)                                                                                       \n",
      "                                                                                                  \n",
      " self_attention_block7 (Transfo  (None, 10, 64)      149504      ['self_attention_block6[0][0]']  \n",
      " rmerBlock)                                                                                       \n",
      "                                                                                                  \n",
      " tf.__operators__.add_1 (TFOpLa  (None, 10, 64)      0           ['self_attention_block7[0][0]',  \n",
      " mbda)                                                            'tf.__operators__.add[0][0]']   \n",
      "                                                                                                  \n",
      " classification_out (Sequential  (None, 10, 138)     3296        ['tf.__operators__.add_1[0][0]'] \n",
      " )                                                                                                \n",
      "                                                                                                  \n",
      "==================================================================================================\n",
      "Total params: 1,204,704\n",
      "Trainable params: 1,204,544\n",
      "Non-trainable params: 160\n",
      "__________________________________________________________________________________________________\n"
     ]
    }
   ],
   "source": [
    "K.clear_session()\n",
    "\n",
    "d_model = 64\n",
    "ff_dim = 128\n",
    "num_heads = 8\n",
    "layer_num = 8\n",
    "dropout = 0.15\n",
    "final_heroes_emb_size = 16\n",
    "skip_connection = 4\n",
    "\n",
    "# ---------------------------------------------- #\n",
    "per_hero_regression_input = Input((10, len(FEATURES)), name='per_hero_regression_input')\n",
    "\n",
    "inputs = [per_hero_regression_input]\n",
    "\n",
    "\n",
    "pos = PosEncoding(embed_dim=d_model, name='PosEncding')\n",
    "in_ffn = keras.Sequential([\n",
    "    keras.layers.Dense(d_model, use_bias=False, activation='gelu'),\n",
    "    keras.layers.Dropout(dropout),\n",
    "\n",
    "    keras.layers.Dense(d_model, use_bias=False),\n",
    "    keras.layers.BatchNormalization(axis=-1),\n",
    "    keras.layers.Activation('gelu'),\n",
    "    keras.layers.Dropout(dropout),\n",
    "])\n",
    "out_ffn = keras.Sequential([\n",
    "    keras.layers.Dense(final_heroes_emb_size, use_bias=False),\n",
    "    keras.layers.BatchNormalization(),\n",
    "    L2Normalization(),\n",
    "    ArcLayer(h_arr.max()+1),\n",
    "], name='classification_out')\n",
    "# ---------------------------------------------- #\n",
    "x = in_ffn(per_hero_regression_input)\n",
    "x = pos(x)\n",
    "\n",
    "skip_conection = None\n",
    "for i in range(layer_num):\n",
    "    self_attention = TransformerBlock(embed_dim=d_model, num_heads=num_heads, ff_dim=ff_dim, name=f'self_attention_block{i}')\n",
    "    # x = self_attention(x)\n",
    "    if (i+1)%skip_connection == 0:\n",
    "        x = self_attention(x)\n",
    "        x = skip_conection = x + skip_conection\n",
    "    elif i == 0:\n",
    "        x = skip_conection = self_attention(x)\n",
    "    else:\n",
    "        x = self_attention(x)\n",
    "        \n",
    "outputs = [out_ffn(x)]\n",
    "\n",
    "# --------------------------------------- #\n",
    "model = keras.Model(\n",
    "    inputs=inputs,\n",
    "    outputs=outputs, \n",
    ")\n",
    "\n",
    "# --------------------------------------- #\n",
    "# Test save-n-load, predict; Summary\n",
    "# pred = model.predict(Xtrain[-256:])\n",
    "# model.save(f\"output/test.h5\")\n",
    "# model = keras.models.load_model(f'output/test.h5', compile=False, custom_objects=custom_objects)\n",
    "model.summary()"
   ]
  },
  {
   "cell_type": "code",
   "execution_count": 265,
   "id": "5dff6cb7-3741-495f-87fc-fbd3b17763f4",
   "metadata": {
    "tags": []
   },
   "outputs": [
    {
     "name": "stdout",
     "output_type": "stream",
     "text": [
      "Epoch 1/100000000\n",
      "56/56 [==============================] - 18s 217ms/step - loss: 36.7897 - val_loss: 37.7263 - lr: 6.4654e-05\n",
      "Epoch 2/100000000\n",
      "56/56 [==============================] - 11s 203ms/step - loss: 36.2168 - val_loss: 36.3509 - lr: 1.2931e-04\n",
      "Epoch 3/100000000\n",
      "56/56 [==============================] - 11s 205ms/step - loss: 36.1276 - val_loss: 36.1743 - lr: 1.9396e-04\n",
      "Epoch 4/100000000\n",
      "56/56 [==============================] - 11s 204ms/step - loss: 36.0144 - val_loss: 36.4987 - lr: 2.5861e-04\n",
      "Epoch 5/100000000\n",
      "56/56 [==============================] - 11s 204ms/step - loss: 36.0037 - val_loss: 36.2616 - lr: 3.2327e-04\n",
      "Epoch 6/100000000\n",
      "56/56 [==============================] - 11s 201ms/step - loss: 36.0168 - val_loss: 36.2899 - lr: 3.8792e-04\n",
      "Epoch 7/100000000\n",
      "56/56 [==============================] - 11s 200ms/step - loss: 36.0434 - val_loss: 36.3704 - lr: 4.4544e-04\n",
      "Epoch 8/100000000\n",
      "56/56 [==============================] - 11s 199ms/step - loss: 36.0326 - val_loss: 36.2323 - lr: 4.1667e-04\n",
      "Epoch 9/100000000\n",
      "56/56 [==============================] - 11s 200ms/step - loss: 36.0585 - val_loss: 36.2950 - lr: 3.9284e-04\n",
      "Epoch 10/100000000\n",
      "56/56 [==============================] - 11s 200ms/step - loss: 36.0369 - val_loss: 36.2030 - lr: 3.7268e-04\n",
      "Epoch 11/100000000\n",
      "56/56 [==============================] - 11s 200ms/step - loss: 36.0390 - val_loss: 36.3857 - lr: 3.5533e-04\n",
      "Epoch 12/100000000\n",
      "56/56 [==============================] - 11s 202ms/step - loss: 36.0324 - val_loss: 36.2766 - lr: 3.4021e-04\n",
      "Epoch 13/100000000\n",
      "56/56 [==============================] - 11s 200ms/step - loss: 36.0301 - val_loss: 36.2821 - lr: 3.2686e-04\n",
      "Epoch 14/100000000\n",
      "56/56 [==============================] - 11s 202ms/step - loss: 36.1199 - val_loss: 36.2607 - lr: 3.1497e-04\n",
      "Epoch 15/100000000\n",
      "56/56 [==============================] - 12s 206ms/step - loss: 36.0155 - val_loss: 36.1739 - lr: 3.0429e-04\n",
      "Epoch 16/100000000\n",
      "56/56 [==============================] - 11s 202ms/step - loss: 36.0524 - val_loss: 36.2362 - lr: 2.9463e-04\n",
      "Epoch 17/100000000\n",
      "56/56 [==============================] - 11s 204ms/step - loss: 36.0429 - val_loss: 36.4713 - lr: 2.8583e-04\n",
      "Epoch 18/100000000\n",
      "56/56 [==============================] - 11s 205ms/step - loss: 36.0314 - val_loss: 36.0395 - lr: 2.7778e-04\n",
      "Epoch 19/100000000\n",
      "56/56 [==============================] - 11s 205ms/step - loss: 36.0410 - val_loss: 36.3314 - lr: 2.7037e-04\n",
      "Epoch 20/100000000\n",
      "56/56 [==============================] - 11s 205ms/step - loss: 36.0171 - val_loss: 36.3449 - lr: 2.6352e-04\n",
      "Epoch 21/100000000\n",
      "56/56 [==============================] - 11s 201ms/step - loss: 36.0405 - val_loss: 36.2712 - lr: 2.5717e-04\n",
      "Epoch 22/100000000\n",
      "56/56 [==============================] - 11s 201ms/step - loss: 36.0890 - val_loss: 36.4015 - lr: 2.5126e-04\n",
      "Epoch 23/100000000\n",
      "56/56 [==============================] - 11s 202ms/step - loss: 36.0597 - val_loss: 36.2617 - lr: 2.4574e-04\n",
      "Epoch 24/100000000\n",
      "56/56 [==============================] - 11s 202ms/step - loss: 36.0364 - val_loss: 36.1734 - lr: 2.4056e-04\n",
      "Epoch 25/100000000\n",
      "56/56 [==============================] - 11s 204ms/step - loss: 36.0227 - val_loss: 36.2297 - lr: 2.3570e-04\n",
      "Epoch 26/100000000\n",
      "56/56 [==============================] - 11s 204ms/step - loss: 36.0565 - val_loss: 36.3559 - lr: 2.3113e-04\n",
      "Epoch 27/100000000\n",
      "56/56 [==============================] - 11s 203ms/step - loss: 36.0884 - val_loss: 36.3177 - lr: 2.2680e-04\n",
      "Epoch 28/100000000\n",
      "56/56 [==============================] - 11s 204ms/step - loss: 36.0937 - val_loss: 36.4672 - lr: 2.2272e-04\n",
      "Epoch 29/100000000\n",
      "56/56 [==============================] - 11s 205ms/step - loss: 36.0519 - val_loss: 36.2662 - lr: 2.1884e-04\n",
      "Epoch 30/100000000\n",
      "56/56 [==============================] - 11s 202ms/step - loss: 36.1003 - val_loss: 36.2486 - lr: 2.1517e-04\n",
      "Epoch 31/100000000\n",
      "56/56 [==============================] - 11s 201ms/step - loss: 36.0131 - val_loss: 36.3039 - lr: 2.1167e-04\n",
      "Epoch 32/100000000\n",
      "56/56 [==============================] - 11s 202ms/step - loss: 36.1311 - val_loss: 36.4720 - lr: 2.0833e-04\n",
      "Epoch 33/100000000\n",
      "56/56 [==============================] - 11s 201ms/step - loss: 36.0226 - val_loss: 36.3709 - lr: 2.0515e-04\n",
      "Epoch 34/100000000\n",
      "56/56 [==============================] - 11s 205ms/step - loss: 36.0369 - val_loss: 36.1087 - lr: 2.0211e-04\n",
      "Epoch 35/100000000\n",
      "56/56 [==============================] - 11s 203ms/step - loss: 36.0384 - val_loss: 36.3022 - lr: 1.9920e-04\n",
      "Epoch 36/100000000\n",
      "56/56 [==============================] - 11s 203ms/step - loss: 36.0982 - val_loss: 36.4426 - lr: 1.9642e-04\n",
      "Epoch 37/100000000\n",
      "56/56 [==============================] - 11s 200ms/step - loss: 36.0768 - val_loss: 36.1817 - lr: 1.9375e-04\n",
      "Epoch 38/100000000\n",
      "56/56 [==============================] - 11s 202ms/step - loss: 36.0312 - val_loss: 36.0719 - lr: 1.9118e-04\n"
     ]
    }
   ],
   "source": [
    "optimizer = tfa.optimizers.AdamW(weight_decay=0.1, learning_rate=3e-4, epsilon=1e-6, clipvalue=1.)\n",
    "# optimizer = AdamWeightDecay(learning_rate=3e-4, weight_decay_rate=0.1, epsilon=1e-7, clipvalue=0.5, clipnorm=1.)\n",
    "# optimizer = keras.optimizers.Adam(1e-3, amsgrad=True, epsilon=1e-7, clipvalue=0.5)\n",
    "# optimizer = keras.optimizers.SGD(learning_rate=3e-4, decay=1e-6, momentum=0.9, nesterov=True, clipvalue=1.0)\n",
    "\n",
    "model.compile(\n",
    "    optimizer=optimizer,\n",
    "    loss=ArcLoss(), #keras.losses.CategoricalCrossentropy(),\n",
    "    # metrics=['accuracy', keras.metrics.AUC(num_thresholds=60, name='auc')]\n",
    ")\n",
    "\n",
    "board_name = datetime.datetime.now().strftime(\"%Y-%m-%d - %H-%M-%S\")\n",
    "log_dir = f\"logs/fit/public/params-{model.count_params()} --- data-{board_name}\"\n",
    "\n",
    "monitor = \"val_loss\"\n",
    "try:\n",
    "    with tf.device('/gpu:0'):\n",
    "        tb = keras.callbacks.TensorBoard(log_dir=log_dir),\n",
    "        es = keras.callbacks.EarlyStopping(monitor=monitor, mode='min', patience=20, restore_best_weights=True),\n",
    "        cc = CustomCheckpoint(board_name, monitor=monitor, mode='min', path='CustomCallbackCheckpoints/')\n",
    "        model.fit(\n",
    "            Xtrain, Ytrain,\n",
    "            validation_data=(Xval, Yval),\n",
    "            callbacks=[lr_schedule, es, tb, cc],\n",
    "            verbose=1,\n",
    "            epochs=10**8,\n",
    "            batch_size=1024,\n",
    "            shuffle=True,\n",
    "            # sample_weight=np.arange(0.5, 1, 0.5/len(train_indexes)),\n",
    "        )\n",
    "except KeyboardInterrupt:\n",
    "    pass"
   ]
  },
  {
   "cell_type": "code",
   "execution_count": 197,
   "id": "4838cb01-e348-4ff1-a216-9d835afdda3d",
   "metadata": {},
   "outputs": [],
   "source": [
    "name = \"2022-08-18 - 03-42-28_val_auc\"\n",
    "name = \"2022-08-18 - 02-39-43_val_auc\"\n",
    "model = keras.models.load_model(f\"CustomCallbackCheckpoints/{name}.h5\", custom_objects=custom_objects, compile=False)"
   ]
  },
  {
   "cell_type": "code",
   "execution_count": 260,
   "id": "fbc95594-5f35-4246-bfa8-75a6a1aea08f",
   "metadata": {},
   "outputs": [],
   "source": [
    "pred = model.predict(Xtest)"
   ]
  },
  {
   "cell_type": "code",
   "execution_count": 261,
   "id": "6996a667-a703-43f2-a483-8b9450210e12",
   "metadata": {},
   "outputs": [],
   "source": [
    "pred = tf.nn.softmax(pred, axis=-1).numpy()"
   ]
  },
  {
   "cell_type": "code",
   "execution_count": 262,
   "id": "6e705b57-01fa-4686-b1b8-ba378f016bbc",
   "metadata": {},
   "outputs": [],
   "source": [
    "def eval_metrics1(true, pred):\n",
    "    true, pred = true.flatten(), pred.flatten()\n",
    "\n",
    "    accuracy = metrics.top_k_accuracy_score(true, pred, k=5)\n",
    "    AUCauc = metrics.roc_auc_score(true, pred)\n",
    "    log_loss = metrics.log_loss(true, pred)\n",
    "    precision = metrics.precision_score(true, pred)\n",
    "    recall = metrics.recall_score(true, pred)\n",
    "    return accuracy, auc, log_loss, precision, recall\n",
    "\n",
    "def eval_metrics2(true, pred):\n",
    "    true = true.reshape([true.shape[0] * true.shape[1], true.shape[2]])\n",
    "    pred = pred.reshape([pred.shape[0] * pred.shape[1], pred.shape[2]])\n",
    "    \n",
    "    accuracy = keras.metrics.categorical_accuracy(true, pred).numpy().mean()\n",
    "    auc = keras.metrics.AUC()(true, pred).numpy()\n",
    "    log_loss = keras.metrics.categorical_crossentropy(true, pred).numpy().mean()\n",
    "    k5 = keras.metrics.top_k_categorical_accuracy(true, pred, k=5).numpy().mean()\n",
    "    k10 = keras.metrics.top_k_categorical_accuracy(true, pred, k=10).numpy().mean()\n",
    "    return accuracy, auc, log_loss, k5, k10"
   ]
  },
  {
   "cell_type": "code",
   "execution_count": 201,
   "id": "9d8c9bd1-35c8-4f6f-823a-eee31a346e14",
   "metadata": {},
   "outputs": [
    {
     "name": "stdout",
     "output_type": "stream",
     "text": [
      "2022-08-18 - 02-39-43_val_auc\n",
      "(0.37946278, 0.96126384, 2.261273, 0.7177876, 0.85862947)\n"
     ]
    }
   ],
   "source": [
    "print(name)\n",
    "print(eval_metrics2(Ytest, pred))"
   ]
  },
  {
   "cell_type": "code",
   "execution_count": 263,
   "id": "394714bf-dae3-47f1-b6d1-16c4034450b4",
   "metadata": {},
   "outputs": [
    {
     "name": "stdout",
     "output_type": "stream",
     "text": [
      "2022-08-18 - 02-39-43_val_auc\n",
      "(0.18775381, 0.5626434, 4.7079434, 0.48081642, 0.6582487)\n"
     ]
    }
   ],
   "source": [
    "\"Additive angular margin loss\"\n",
    "print(name)\n",
    "print(eval_metrics2(Ytest, pred))"
   ]
  },
  {
   "cell_type": "code",
   "execution_count": 202,
   "id": "894bcd73-ea33-443f-b1f7-172bcb802ca1",
   "metadata": {},
   "outputs": [],
   "source": [
    "ids = np.array(list(set(h_arr.flatten())))\n",
    "\n",
    "layer = model.get_layer(\"classification_out\")\n",
    "if type(layer) == keras.Sequential:\n",
    "    layer = layer.layers[-1]\n",
    "    \n",
    "w = layer.weights[0].numpy().T\n",
    "W = w / np.linalg.norm(w, axis=-1, keepdims=True)\n",
    "W = W[ids]"
   ]
  },
  {
   "cell_type": "code",
   "execution_count": 203,
   "id": "0d6840ad-349e-4755-8a86-708c449e6feb",
   "metadata": {},
   "outputs": [
    {
     "name": "stderr",
     "output_type": "stream",
     "text": [
      "C:\\Users\\royta\\AppData\\Local\\Programs\\Python\\Python310\\lib\\site-packages\\seaborn\\_decorators.py:36: FutureWarning: Pass the following variables as keyword args: x, y. From version 0.12, the only valid positional argument will be `data`, and passing other arguments without an explicit keyword will result in an error or misinterpretation.\n",
      "  warnings.warn(\n"
     ]
    }
   ],
   "source": [
    "tsne = TSNE(\n",
    "    n_components=2, \n",
    "    perplexity=64, \n",
    "    early_exaggeration=12,\n",
    "    learning_rate='auto',\n",
    "    random_state=69,\n",
    "    init='random',\n",
    ")\n",
    "\n",
    "embed = tsne.fit_transform(W)\n",
    "x_, y_ = embed[:, 0], embed[:, 1]\n",
    "\n",
    "fig, ax = plt.subplots(1, 1, figsize=(25, 25))\n",
    "sns.scatterplot(x_, y_, ax=ax)\n",
    "\n",
    "ax.axhline(0, c='black', alpha=0.25)\n",
    "ax.axvline(0, c='black', alpha=0.25)\n",
    "\n",
    "for x, y, i in zip(x_, y_, ids):\n",
    "    ax.text(x-.002, y+.0025, id_to_hero[i])\n",
    "    \n",
    "fig.savefig('output/embeddings/TSNE_heroes_softmax', bbox_inches='tight')\n",
    "plt.close(fig)"
   ]
  },
  {
   "cell_type": "markdown",
   "id": "64b7a993-cd50-4644-872c-0eb238fb11f4",
   "metadata": {
    "tags": []
   },
   "source": [
    "# Heroes -> perfomance"
   ]
  },
  {
   "cell_type": "code",
   "execution_count": 72,
   "id": "8d207eb9-b493-42ee-a6bf-05e3438b5bf3",
   "metadata": {
    "collapsed": true,
    "jupyter": {
     "outputs_hidden": true,
     "source_hidden": true
    },
    "tags": []
   },
   "outputs": [
    {
     "name": "stdout",
     "output_type": "stream",
     "text": [
      "WARNING:tensorflow:Compiled the loaded model, but the compiled metrics have yet to be built. `model.compile_metrics` will be empty until you train or evaluate the model.\n",
      "Model: \"model\"\n",
      "__________________________________________________________________________________________________\n",
      " Layer (type)                   Output Shape         Param #     Connected to                     \n",
      "==================================================================================================\n",
      " hero_input (InputLayer)        [(None, 10)]         0           []                               \n",
      "                                                                                                  \n",
      " player_input (InputLayer)      [(None, 10)]         0           []                               \n",
      "                                                                                                  \n",
      " masking_1 (Masking)            (None, 10)           0           ['hero_input[0][0]']             \n",
      "                                                                                                  \n",
      " players_embedding (Embedding)  (None, 10, 24)       15696       ['player_input[0][0]']           \n",
      "                                                                                                  \n",
      " heroes_embedding (Embedding)   (None, 10, 16)       2208        ['masking_1[0][0]']              \n",
      "                                                                                                  \n",
      " rank_input (InputLayer)        [(None, 10)]         0           []                               \n",
      "                                                                                                  \n",
      " emb_block (EmbBlock)           ((None, 5, 64),      7552        ['players_embedding[0][0]',      \n",
      "                                 (None, 5, 64))                   'heroes_embedding[0][0]',       \n",
      "                                                                  'rank_input[0][0]']             \n",
      "                                                                                                  \n",
      " tf.concat (TFOpLambda)         (None, 10, 64)       0           ['emb_block[0][0]',              \n",
      "                                                                  'emb_block[0][1]']              \n",
      "                                                                                                  \n",
      " transformer_block (Transformer  (None, 10, 64)      149504      ['tf.concat[0][0]']              \n",
      " Block)                                                                                           \n",
      "                                                                                                  \n",
      " transformer_block_1 (Transform  (None, 10, 64)      149504      ['transformer_block[0][0]']      \n",
      " erBlock)                                                                                         \n",
      "                                                                                                  \n",
      " transformer_block_2 (Transform  (None, 10, 64)      149504      ['transformer_block_1[0][0]']    \n",
      " erBlock)                                                                                         \n",
      "                                                                                                  \n",
      " transformer_block_3 (Transform  (None, 10, 64)      149504      ['transformer_block_2[0][0]']    \n",
      " erBlock)                                                                                         \n",
      "                                                                                                  \n",
      " tf.__operators__.add (TFOpLamb  (None, 10, 64)      0           ['transformer_block_3[0][0]',    \n",
      " da)                                                              'transformer_block[0][0]']      \n",
      "                                                                                                  \n",
      " transformer_block_4 (Transform  (None, 10, 64)      149504      ['tf.__operators__.add[0][0]']   \n",
      " erBlock)                                                                                         \n",
      "                                                                                                  \n",
      " transformer_block_5 (Transform  (None, 10, 64)      149504      ['transformer_block_4[0][0]']    \n",
      " erBlock)                                                                                         \n",
      "                                                                                                  \n",
      " transformer_block_6 (Transform  (None, 10, 64)      149504      ['transformer_block_5[0][0]']    \n",
      " erBlock)                                                                                         \n",
      "                                                                                                  \n",
      " transformer_block_7 (Transform  (None, 10, 64)      149504      ['transformer_block_6[0][0]']    \n",
      " erBlock)                                                                                         \n",
      "                                                                                                  \n",
      " tf.__operators__.getitem (Slic  (None, 5, 64)       0           ['transformer_block_7[0][0]']    \n",
      " ingOpLambda)                                                                                     \n",
      "                                                                                                  \n",
      " tf.__operators__.getitem_1 (Sl  (None, 5, 64)       0           ['transformer_block_7[0][0]']    \n",
      " icingOpLambda)                                                                                   \n",
      "                                                                                                  \n",
      " tf.math.reduce_mean (TFOpLambd  (None, 64)          0           ['tf.__operators__.getitem[0][0]'\n",
      " a)                                                              ]                                \n",
      "                                                                                                  \n",
      " tf.math.reduce_mean_1 (TFOpLam  (None, 64)          0           ['tf.__operators__.getitem_1[0][0\n",
      " bda)                                                            ]']                              \n",
      "                                                                                                  \n",
      " tf.__operators__.getitem_2 (Sl  (None, 1, 64)       0           ['tf.math.reduce_mean[0][0]']    \n",
      " icingOpLambda)                                                                                   \n",
      "                                                                                                  \n",
      " tf.__operators__.getitem_3 (Sl  (None, 1, 64)       0           ['tf.math.reduce_mean_1[0][0]']  \n",
      " icingOpLambda)                                                                                   \n",
      "                                                                                                  \n",
      " tf.concat_1 (TFOpLambda)       (None, 2, 64)        0           ['tf.__operators__.getitem_2[0][0\n",
      "                                                                 ]',                              \n",
      "                                                                  'tf.__operators__.getitem_3[0][0\n",
      "                                                                 ]']                              \n",
      "                                                                                                  \n",
      " sequential_2 (Sequential)      (None, 1)            16641       ['tf.math.reduce_mean[0][0]',    \n",
      "                                                                  'tf.math.reduce_mean_1[0][0]']  \n",
      "                                                                                                  \n",
      " sequential_1 (Sequential)      (None, 2, 64)        16576       ['tf.concat_1[0][0]']            \n",
      "                                                                                                  \n",
      " tf.concat_2 (TFOpLambda)       (None, 2)            0           ['sequential_2[0][0]',           \n",
      "                                                                  'sequential_2[1][0]']           \n",
      "                                                                                                  \n",
      " teams_regression_output (Dense  (None, 2, 14)       910         ['sequential_1[0][0]']           \n",
      " )                                                                                                \n",
      "                                                                                                  \n",
      " win_output (Softmax)           (None, 2)            0           ['tf.concat_2[0][0]']            \n",
      "                                                                                                  \n",
      "==================================================================================================\n",
      "Total params: 1,255,615\n",
      "Trainable params: 1,255,615\n",
      "Non-trainable params: 0\n",
      "__________________________________________________________________________________________________\n"
     ]
    }
   ],
   "source": [
    "K.clear_session()\n",
    "\n",
    "d_model = 64\n",
    "ff_dim = 128\n",
    "num_heads = 8\n",
    "layer_num = 8\n",
    "dropout = 0.1\n",
    "\n",
    "hero_input   = Input(10, name='hero_input')\n",
    "player_input = Input(10, name='player_input')\n",
    "rank_input   = Input(10, name='rank_input')\n",
    "imputs = [hero_input, player_input, rank_input]\n",
    "\n",
    "# --------------------------------------- #\n",
    "masking = Masking(0.01)\n",
    "\n",
    "hEmbeddibg = keras.layers.Embedding(h_arr.max()+1, 16, name='heroes_embedding')\n",
    "pEmbeddibg = keras.layers.Embedding(p_arr.max()+1, 24, name='players_embedding')\n",
    "\n",
    "embBlock = EmbBlock(in_dim=d_model, out_dim=d_model, name='EmbBlock')\n",
    "\n",
    "# tBlock1  = TransformerBlock(embed_dim=d_model, num_heads=num_heads, ff_dim=ff_dim, rate=dropout, name='transformerBlock1')\n",
    "# aBlock1  = AttentionBlock(embed_dim=d_model, num_heads=num_heads, ff_dim=ff_dim, rate=dropout, name='attentionBlock1')\n",
    "\n",
    "# tBlock2  = TransformerBlock(embed_dim=d_model, num_heads=num_heads, ff_dim=ff_dim, rate=dropout, name='transformerBlock2')\n",
    "# aBlock2  = AttentionBlock(embed_dim=d_model, num_heads=num_heads, ff_dim=ff_dim, rate=dropout, name='attentionBlock2')\n",
    "\n",
    "# tBlock3  = TransformerBlock(embed_dim=d_model, num_heads=num_heads, ff_dim=ff_dim, rate=dropout, name='transformerBlock3')\n",
    "# aBlock3  = AttentionBlock(embed_dim=d_model, num_heads=num_heads, ff_dim=ff_dim, rate=dropout, name='attentionBlock3')\n",
    "\n",
    "# tBlock4  = TransformerBlock(embed_dim=d_model, num_heads=num_heads, ff_dim=ff_dim, rate=dropout, name='transformerBlock4')\n",
    "# aBlock4  = AttentionBlock(embed_dim=d_model, num_heads=num_heads, ff_dim=ff_dim, rate=dropout, name='attentionBlock4')\n",
    "\n",
    "# --------------------------------------- #\n",
    "players_ffn = keras.Sequential([\n",
    "    keras.layers.Dense(d_model, activation = 'gelu'),\n",
    "    keras.layers.Dropout(dropout),\n",
    "    keras.layers.Dense(d_model, activation = 'gelu'),\n",
    "    keras.layers.Dropout(dropout),\n",
    "])\n",
    "teams_ffn = keras.Sequential([\n",
    "    keras.layers.Dense(d_model*2, activation = 'gelu'),\n",
    "    keras.layers.Dropout(dropout),\n",
    "    keras.layers.Dense(d_model, activation = 'gelu'),\n",
    "])\n",
    "win_ffn = keras.Sequential([\n",
    "    keras.layers.Dense(d_model*2, activation = 'gelu'),\n",
    "    keras.layers.Dropout(dropout),\n",
    "    keras.layers.Dense(d_model, activation = 'gelu'),\n",
    "    keras.layers.Dense(1),\n",
    "])\n",
    "\n",
    "\n",
    "hero_input = masking(hero_input)\n",
    "p = pEmbeddibg(player_input)\n",
    "h = hEmbeddibg(hero_input)\n",
    "\n",
    "r, d = embBlock(p, h, rank_input)\n",
    "#  |r, d| -> (batch, 5, embed_dim), (batch, 5, embed_dim)\n",
    "\n",
    "# --------------------------------------- #\n",
    "# r_, d_ = tBlock1(r), tBlock1(d)\n",
    "# r, d = aBlock1(r_, d_)\n",
    "\n",
    "# r, d = tBlock2(r), tBlock2(d)\n",
    "# r, d = aBlock2(r, d)\n",
    "\n",
    "# r, d = tBlock3(r), tBlock3(d)\n",
    "# r, d = r + r_, d + d_\n",
    "# r, d = aBlock3(r, d)\n",
    "\n",
    "# r, d = tBlock4(r), tBlock4(d)\n",
    "\n",
    "# --------------------------------------- #\n",
    "# _r, _d = None, None\n",
    "# for i in range(layer_num):\n",
    "#     self_attention = TransformerBlock(embed_dim=d_model, num_heads=num_heads, ff_dim=ff_dim, name=f'self_attention_block{i}')\n",
    "#     cross_attenrion = AttentionBlock(embed_dim=d_model, num_heads=num_heads, ff_dim=ff_dim, name=f'cross_attention_block{i}')\n",
    "    \n",
    "#     if i%2 == 0:\n",
    "#         if _r is not None and _d is not None:\n",
    "#             r, d = r + _r, d + _d\n",
    "            \n",
    "#         _r, _d = self_attention(r), self_attention(d)\n",
    "#         _r, _d = cross_attenrion(_r, _d)\n",
    "#         r, d = _r, _d\n",
    "#     else:\n",
    "#         r, d = self_attention(r), self_attention(d)\n",
    "#         r, d = cross_attenrion(r, d)\n",
    "    \n",
    "# --------------------------------------- #\n",
    "# players = tf.concat([r, d], axis=1)\n",
    "# for i in range(layer_num):\n",
    "#     self_attention = TransformerBlock(embed_dim=d_model, num_heads=num_heads, ff_dim=ff_dim, name=f'self_attention_block{i}')\n",
    "#     players = self_attention(players)\n",
    "    \n",
    "# r, d = players[:, :5, :], players[:, 5:, :]\n",
    "\n",
    "# --------------------------------------- #\n",
    "players = tf.concat([r, d], axis=1)\n",
    "players_ = None\n",
    "for i in range(layer_num):\n",
    "    self_attention = TransformerBlock(embed_dim=d_model, num_heads=num_heads, ff_dim=ff_dim, name=f'self_attention_block{i}')\n",
    "    \n",
    "    if i%4 == 0:\n",
    "        if players_ is not None:\n",
    "            players = players + players_\n",
    "            \n",
    "        players_ = self_attention(players)\n",
    "        players = players_\n",
    "    else:\n",
    "        players = self_attention(players)\n",
    "        \n",
    "r, d = players[:, :5, :], players[:, 5:, :]\n",
    "\n",
    "# --------------------------------------- #\n",
    "# Concat and apply player_ffn for each player \n",
    "# [batch, 5, embed_dim], [batch, 5, embed_dim] -> [batch, 10, embed_dim]\n",
    "# players = players_ffn(tf.concat([r, d], axis=1))\n",
    "\n",
    "# [batch, 5, embed_dim], [batch, 5, embed_dim] -> [batch, embed_dim], [batch, embed_dim]\n",
    "team1, team2 = tf.reduce_mean(r, axis=1), tf.reduce_mean(d, axis=1) \n",
    "teams = tf.concat([\n",
    "    team1[:, tf.newaxis],\n",
    "    team2[:, tf.newaxis]\n",
    "    ], axis=1)\n",
    "\n",
    "teams = teams_ffn(teams)\n",
    "team1 = win_ffn(team1)\n",
    "team2 = win_ffn(team2)\n",
    "\n",
    "# --------------------------------------- #\n",
    "# For each player\n",
    "# players_regression_output = keras.layers.Dense(players_regression_arr.shape[-1], name='players_regression_output')\n",
    "# l_output = keras.layers.Dense(4, activation='softmax', name='l_output') # SparseCategoricalCrossentropy  \n",
    "# r_output = keras.layers.Dense(5, activation='softmax', name='r_output') # SparseCategoricalCrossentropy  \n",
    "\n",
    "# For each team\n",
    "teams_regression_output = keras.layers.Dense(teams_regression_arr.shape[-1], name='teams_regression_output') \n",
    "# duration_output = keras.layers.Dense(1, name='duration_output') \n",
    "# win_output = keras.layers.Dense(2, activation='softmax', name='win_output')  \n",
    "win_output = keras.layers.Softmax(name='win_output')\n",
    "\n",
    "\n",
    "outputs = [\n",
    "    # players_regression_output(players), \n",
    "    # l_output(players), \n",
    "    # r_output(players), \n",
    "    \n",
    "    teams_regression_output(teams),\n",
    "    # duration_output(teams),\n",
    "    win_output(tf.concat([team1, team2], axis=1)),\n",
    "]\n",
    "\n",
    "# --------------------------------------- #\n",
    "model = keras.Model(\n",
    "    inputs=imputs,\n",
    "    outputs=outputs, \n",
    ")\n",
    "\n",
    "pred = model.predict([x[-400:] for x in Xtrain])\n",
    "\n",
    "model.save(f\"test.h5\")\n",
    "model = keras.models.load_model(f'test.h5', compile=False, custom_objects=custom_objects)\n",
    "model.summary()"
   ]
  },
  {
   "cell_type": "code",
   "execution_count": 73,
   "id": "9acf3df8-72be-4226-9ee5-7864d0f77914",
   "metadata": {
    "jupyter": {
     "source_hidden": true
    },
    "tags": []
   },
   "outputs": [],
   "source": [
    "# optimizer = tfa.optimizers.AdamW(weight_decay=0.02, learning_rate=3e-4, epsilon=1e-6, clipvalue=1.5)\n",
    "optimizer = AdamWeightDecay(learning_rate=3e-4, weight_decay_rate=0.2, epsilon=1e-6, clipvalue=1.5)\n",
    "\n",
    "model.compile(\n",
    "    optimizer=optimizer,\n",
    "    loss={\n",
    "        # 'players_regression_output': tf.keras.losses.MeanSquaredError(),\n",
    "        # 'l_output': tf.keras.losses.SparseCategoricalCrossentropy(),\n",
    "        # 'r_output': tf.keras.losses.SparseCategoricalCrossentropy(),\n",
    "        \n",
    "        'teams_regression_output': tf.keras.losses.MeanSquaredError(),\n",
    "        # 'duration_output': tf.keras.losses.MeanSquaredError(),\n",
    "        'win_output': tf.keras.losses.CategoricalCrossentropy(label_smoothing=0.1)\n",
    "    },\n",
    "    loss_weights={\n",
    "        # 'players_regression_output': 1.,\n",
    "        # 'l_output': 0.1,\n",
    "        # 'r_output': 0.1,\n",
    "        \n",
    "        'teams_regression_output': 1.5,\n",
    "        # 'duration_output': 0.25,\n",
    "        'win_output': .0,\n",
    "    },\n",
    "    metrics={\n",
    "        # 'players_regression_output': ['mae', 'mean_absolute_percentage_error', ],\n",
    "        # 'l_output': ['accuracy', ],\n",
    "        # 'r_output': ['accuracy', ],\n",
    "        \n",
    "        'teams_regression_output': ['mae', 'mse', ],\n",
    "        # 'duration_output': ['mae', ],\n",
    "        'win_output': ['accuracy', keras.metrics.AUC(num_thresholds=60, name='auc')],\n",
    "    }, \n",
    ")\n",
    "\n",
    "board_name = datetime.datetime.now().strftime(\"%Y-%m-%d - %H-%M-%S\")\n",
    "log_dir = f\"logs/fit/public/params-{model.count_params()} --- data-{board_name}\"\n",
    "\n",
    "monitor = \"val_teams_regression_output_mse\" # \"val_win_output_auc\" \n",
    "try:\n",
    "    with tf.device('/gpu:0'):\n",
    "        tb = keras.callbacks.TensorBoard(log_dir=log_dir),\n",
    "        es = keras.callbacks.EarlyStopping(monitor=monitor, mode='min', patience=25, restore_best_weights=True),\n",
    "        cc = CustomCheckpoint(board_name, monitor=monitor, mode='min', path='CustomCallbackCheckpoints/')\n",
    "        model.fit(\n",
    "            Xtrain, Ytrain,\n",
    "            validation_data=(Xval, Yval),\n",
    "            callbacks=[lr_schedule, es, tb, cc],\n",
    "            verbose=0,\n",
    "            epochs=10**8,\n",
    "            batch_size=1024*2,\n",
    "            shuffle=True,\n",
    "            # sample_weight=np.arange(0.5, 1, 0.5/len(train_indexes)),\n",
    "        )\n",
    "except KeyboardInterrupt:\n",
    "    pass"
   ]
  },
  {
   "cell_type": "code",
   "execution_count": 76,
   "id": "ca4ae844-db4b-4553-9878-6cd935d0eb10",
   "metadata": {},
   "outputs": [],
   "source": [
    "pred = model.predict(Xtest)"
   ]
  },
  {
   "cell_type": "code",
   "execution_count": 69,
   "id": "40a22994-c445-4bbb-a0e2-a9b14b07ba97",
   "metadata": {},
   "outputs": [
    {
     "data": {
      "text/plain": [
       "(0.5349479498619077,\n",
       " 0.551639464160593,\n",
       " 0.6903785296324233,\n",
       " 0.5220897615708275,\n",
       " 0.6431965442764579)"
      ]
     },
     "execution_count": 69,
     "metadata": {},
     "output_type": "execute_result"
    }
   ],
   "source": [
    "accuracy = metrics.accuracy_score(Ytest[1][:, 0], pred[1][:, 0].round())\n",
    "auc = metrics.roc_auc_score(Ytest[1][:, 0], pred[1][:, 0])\n",
    "log_loss = metrics.log_loss(Ytest[1][:, 0], pred[1][:, 0])\n",
    "precision = metrics.precision_score(Ytest[1][:, 0], pred[1][:, 0].round())\n",
    "recall = metrics.recall_score(Ytest[1][:, 0], pred[1][:, 0].round())\n",
    "\n",
    "accuracy, auc, log_loss, precision, recall"
   ]
  },
  {
   "cell_type": "code",
   "execution_count": 77,
   "id": "f11126df-fe2d-4422-b9ba-5ffcd1fdec10",
   "metadata": {},
   "outputs": [],
   "source": [
    "def reg_sort(true, pred):\n",
    "    idxs = np.argsort(true)\n",
    "    return true[idxs], pred[idxs]\n",
    "\n",
    "def plot_features(true: np.ndarray, pred: np.ndarray, ncols=6, increase_factor=3, title=''):\n",
    "    imgs_num = len(FEATURES)\n",
    "    nrows = imgs_num//ncols + int(imgs_num%ncols > 0)\n",
    "\n",
    "    fig, axes = plt.subplots(nrows, ncols, figsize=(ncols*increase_factor, nrows*increase_factor))\n",
    "    fig.suptitle(title, fontsize=4*increase_factor)\n",
    "\n",
    "    for ax, f, feature in zip(axes.flatten(), range(imgs_num), FEATURES):\n",
    "        t, p = true[:, :, f].flatten(), pred[:, :, f].flatten()\n",
    "        t, p = reg_sort(t, p)\n",
    "        \n",
    "        ax.set_title(feature)\n",
    "        ax.plot(p, label='pred', alpha=0.6)\n",
    "        ax.plot(t, label='true', alpha=1.0)\n",
    "        \n",
    "        ax.legend()\n",
    "        \n",
    "    plt.show()"
   ]
  },
  {
   "cell_type": "code",
   "execution_count": null,
   "id": "501607be-2300-48cd-bedf-9a97cf815df2",
   "metadata": {},
   "outputs": [],
   "source": [
    "plot_features(Ytest[0], pred[0], ncols=7, increase_factor=5, title='teams regression')"
   ]
  },
  {
   "cell_type": "code",
   "execution_count": 79,
   "id": "f3e77ae3-13e9-4f80-a114-fda4ff01b6fc",
   "metadata": {},
   "outputs": [
    {
     "data": {
      "text/plain": [
       "(138, 16)"
      ]
     },
     "execution_count": 79,
     "metadata": {},
     "output_type": "execute_result"
    }
   ],
   "source": [
    "id_to_hero[0] = 'SPECIAL TOKEN'\n",
    "heroes_ids = set(h_arr.flatten())\n",
    "ids = np.array([0] + list(heroes_ids))\n",
    "\n",
    "emb_layer = model.get_layer('heroes_embedding')\n",
    "W = emb_layer.get_weights()[0]\n",
    "W.shape"
   ]
  },
  {
   "cell_type": "code",
   "execution_count": 80,
   "id": "73064309-de54-4323-9362-18d7fce555af",
   "metadata": {},
   "outputs": [],
   "source": [
    "np.save('output/embeddings/heroes_embeddings', W)"
   ]
  },
  {
   "cell_type": "code",
   "execution_count": 81,
   "id": "a62a7692-a5da-4d48-b6cb-021682ff7249",
   "metadata": {},
   "outputs": [],
   "source": [
    "from sklearn.manifold import TSNE\n",
    "from sklearn.decomposition import PCA"
   ]
  },
  {
   "cell_type": "code",
   "execution_count": 83,
   "id": "0b3744a6-89ed-45c7-a1cd-6e95670e5771",
   "metadata": {
    "tags": []
   },
   "outputs": [
    {
     "name": "stderr",
     "output_type": "stream",
     "text": [
      "C:\\Users\\royta\\AppData\\Local\\Programs\\Python\\Python310\\lib\\site-packages\\seaborn\\_decorators.py:36: FutureWarning: Pass the following variables as keyword args: x, y. From version 0.12, the only valid positional argument will be `data`, and passing other arguments without an explicit keyword will result in an error or misinterpretation.\n",
      "  warnings.warn(\n"
     ]
    }
   ],
   "source": [
    "tsne = TSNE(\n",
    "    n_components=2, \n",
    "    perplexity=64, \n",
    "    early_exaggeration=12,\n",
    "    learning_rate='auto',\n",
    "    random_state=69,\n",
    "    init='random',\n",
    ")\n",
    "\n",
    "embed = tsne.fit_transform(W[ids])\n",
    "x_, y_ = embed[:, 0], embed[:, 1]\n",
    "fig, ax = plt.subplots(1, 1, figsize=(25, 25))\n",
    "sns.scatterplot(x_, y_, ax=ax)\n",
    "ax.axhline(0, c='black', alpha=0.25)\n",
    "ax.axvline(0, c='black', alpha=0.25)\n",
    "\n",
    "for x, y, i in zip(x_, y_, ids):\n",
    "    ax.text(x-.002, y+.0025, id_to_hero[i])\n",
    "    \n",
    "    \n",
    "fig.savefig('output/embeddings/TSNE_heroes', bbox_inches='tight')\n",
    "plt.close(fig)"
   ]
  },
  {
   "cell_type": "code",
   "execution_count": 84,
   "id": "fc577f47-2606-43a0-82a7-7a409a26c7f6",
   "metadata": {
    "tags": []
   },
   "outputs": [
    {
     "name": "stderr",
     "output_type": "stream",
     "text": [
      "C:\\Users\\royta\\AppData\\Local\\Programs\\Python\\Python310\\lib\\site-packages\\seaborn\\_decorators.py:36: FutureWarning: Pass the following variables as keyword args: x, y. From version 0.12, the only valid positional argument will be `data`, and passing other arguments without an explicit keyword will result in an error or misinterpretation.\n",
      "  warnings.warn(\n"
     ]
    }
   ],
   "source": [
    "pca = PCA(n_components=2, random_state=69)\n",
    "embed = pca.fit_transform(W[ids])\n",
    "x_, y_ = embed[:, 0], embed[:, 1]\n",
    "fig, ax = plt.subplots(1, 1, figsize=(25, 25))\n",
    "sns.scatterplot(x_, y_, ax=ax)\n",
    "ax.axhline(0, c='black', alpha=0.25)\n",
    "ax.axvline(0, c='black', alpha=0.25)\n",
    "\n",
    "for x, y, i in zip(x_, y_, ids):\n",
    "    ax.text(x-.002, y+.0025, id_to_hero[i])\n",
    "    \n",
    "fig.savefig('output/embeddings/PCA_heroes', bbox_inches='tight')\n",
    "plt.close(fig)"
   ]
  }
 ],
 "metadata": {
  "kernelspec": {
   "display_name": "Python 3.10.4 64-bit",
   "language": "python",
   "name": "python3"
  },
  "language_info": {
   "codemirror_mode": {
    "name": "ipython",
    "version": 3
   },
   "file_extension": ".py",
   "mimetype": "text/x-python",
   "name": "python",
   "nbconvert_exporter": "python",
   "pygments_lexer": "ipython3",
   "version": "3.10.4"
  },
  "vscode": {
   "interpreter": {
    "hash": "369f2c481f4da34e4445cda3fffd2e751bd1c4d706f27375911949ba6bb62e1c"
   }
  }
 },
 "nbformat": 4,
 "nbformat_minor": 5
}
