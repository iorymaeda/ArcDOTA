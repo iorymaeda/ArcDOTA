{
 "cells": [
  {
   "cell_type": "code",
   "execution_count": 1,
   "id": "ff81b909-8e8f-4f17-be89-9aae7f6750e3",
   "metadata": {},
   "outputs": [],
   "source": [
    "import re\n",
    "import time\n",
    "import json\n",
    "import pickle\n",
    "\n",
    "\n",
    "from bs4 import BeautifulSoup\n",
    "from selenium import webdriver\n",
    "from selenium.webdriver import ActionChains\n",
    "from selenium.webdriver.common.by import By\n",
    "from selenium.common.exceptions import TimeoutException\n",
    "from selenium.webdriver.support.ui import WebDriverWait\n",
    "from selenium.webdriver.support import expected_conditions as EC"
   ]
  },
  {
   "cell_type": "code",
   "execution_count": 8,
   "id": "c8d373ff-5434-4fb4-9e86-d24f74e01fae",
   "metadata": {
    "tags": []
   },
   "outputs": [
    {
     "name": "stderr",
     "output_type": "stream",
     "text": [
      "C:\\Users\\royta\\AppData\\Local\\Temp\\ipykernel_14308\\2489293918.py:1: DeprecationWarning: executable_path has been deprecated, please pass in a Service object\n",
      "  driver = webdriver.Chrome('chromedriver.exe')\n"
     ]
    }
   ],
   "source": [
    "driver = webdriver.Chrome('chromedriver.exe')\n",
    "driver.get('https://www.oddsportal.com/esports/results/')"
   ]
  },
  {
   "cell_type": "code",
   "execution_count": 9,
   "id": "fbf0b4ef-9887-4784-9bc9-7a6d16b8ef24",
   "metadata": {},
   "outputs": [],
   "source": [
    "def wait(className):\n",
    "    max_wait_time = 4\n",
    "    for _ in range(max_wait_time):\n",
    "        try:\n",
    "            myElem = WebDriverWait(driver, 3).until(EC.presence_of_element_located((By.CLASS_NAME, className)))\n",
    "            break\n",
    "        except TimeoutException:\n",
    "            if _ >= max_wait_time-1:\n",
    "                return None"
   ]
  },
  {
   "cell_type": "code",
   "execution_count": 10,
   "id": "42a4c76e-f8d9-407c-9a9f-907d579fe336",
   "metadata": {},
   "outputs": [],
   "source": [
    "def scarp_games():\n",
    "    games_links = []\n",
    "    soup = BeautifulSoup(driver.page_source, 'html')\n",
    "    table = soup.find('table', attrs={\"id\": 'tournamentTable'})\n",
    "    for game in table.find_all('tr', class_ = \"odd deactivate\"):\n",
    "        games_links.append(game.find('a').get('href'))\n",
    "\n",
    "    next_page = soup.find('span', class_ = \"arrow\", text ='»')\n",
    "    while next_page:\n",
    "        time.sleep(1)\n",
    "        driver.get(tournament + next_page.find_parent().get('href'))\n",
    "        wait(\"col-content\")\n",
    "\n",
    "        soup = BeautifulSoup(driver.page_source, 'html')\n",
    "        table = soup.find('table', attrs={\"id\": 'tournamentTable'})\n",
    "        for game in table.find_all('tr', class_ = \"odd deactivate\"):\n",
    "            games_links.append(game.find('a').get('href'))\n",
    "\n",
    "        next_page = soup.find('span', class_ = \"arrow\", text ='»')\n",
    "        link = next_page.find_parent().get('href')\n",
    "        obj = re.search(r\"#/page/\\d+/\", link)\n",
    "        num1 = int(re.search(r\"\\d+\", obj[0])[0])\n",
    "        num2 = int(next_page.find_parent().get_attribute_list('x-page')[0])\n",
    "        if num1 != num2:\n",
    "            break\n",
    "        \n",
    "    games = []\n",
    "    for link in games_links:\n",
    "        try:\n",
    "            driver.get(f\"https://www.oddsportal.com{link}\")\n",
    "            wait(\"col-content\")\n",
    "            soup = BeautifulSoup(driver.page_source, 'html')\n",
    "            working_space = soup.find(\"div\", attrs = {\"id\":\"col-content\"})\n",
    "\n",
    "            teams_names = working_space.find('h1').text\n",
    "            date = working_space.find('p').text\n",
    "            score = working_space.find(\"div\", attrs = {\"id\":\"event-status\"}).find('p').find('strong').text\n",
    "            odds = working_space.find(\"tr\", class_=\"aver\").find_all('td', class_=\"right\")\n",
    "            if len(odds) == 3:\n",
    "                t1_odd = working_space.find(\"tr\", class_=\"aver\").find_all('td', class_=\"right\")[0].text\n",
    "                x_odd = working_space.find(\"tr\", class_=\"aver\").find_all('td', class_=\"right\")[1].text\n",
    "                t2_odd = working_space.find(\"tr\", class_=\"aver\").find_all('td', class_=\"right\")[2].text\n",
    "                games.append((teams_names, date, score, (t1_odd, x_odd, t2_odd), link))\n",
    "            else:\n",
    "                t1_odd = working_space.find(\"tr\", class_=\"aver\").find_all('td', class_=\"right\")[0].text\n",
    "                t2_odd = working_space.find(\"tr\", class_=\"aver\").find_all('td', class_=\"right\")[1].text\n",
    "                games.append((teams_names, date, score, (t1_odd, t2_odd), link))\n",
    "                \n",
    "        except Exception as e:\n",
    "            print(e)\n",
    "            \n",
    "        \n",
    "    return games"
   ]
  },
  {
   "cell_type": "code",
   "execution_count": null,
   "id": "9e6b11e5-3123-4129-a5c6-f82f30a93011",
   "metadata": {},
   "outputs": [
    {
     "name": "stdout",
     "output_type": "stream",
     "text": [
      "'NoneType' object has no attribute 'find'\n",
      "'NoneType' object has no attribute 'find'\n",
      "'NoneType' object has no attribute 'find'\n",
      "'NoneType' object has no attribute 'find'\n",
      "'NoneType' object has no attribute 'find'\n",
      "'NoneType' object has no attribute 'find'\n",
      "'NoneType' object has no attribute 'find'\n"
     ]
    }
   ],
   "source": [
    "with open('tournaments.json', \"r\") as j:\n",
    "    tournaments = json.load(j)\n",
    "    \n",
    "games = []\n",
    "for tournament in tournaments:\n",
    "    driver.get(tournament)\n",
    "    wait(\"col-content\")\n",
    "    games += scarp_games()\n",
    "    \n",
    "    \n",
    "with open('odds.json', 'w') as f:\n",
    "    json.dump(games, f)"
   ]
  },
  {
   "cell_type": "code",
   "execution_count": null,
   "id": "bb05d4a8-be1f-4e45-a3cd-ddc1fb56d8d6",
   "metadata": {},
   "outputs": [],
   "source": []
  }
 ],
 "metadata": {
  "kernelspec": {
   "display_name": "Python 3 (ipykernel)",
   "language": "python",
   "name": "python3"
  },
  "language_info": {
   "codemirror_mode": {
    "name": "ipython",
    "version": 3
   },
   "file_extension": ".py",
   "mimetype": "text/x-python",
   "name": "python",
   "nbconvert_exporter": "python",
   "pygments_lexer": "ipython3",
   "version": "3.10.4"
  }
 },
 "nbformat": 4,
 "nbformat_minor": 5
}
