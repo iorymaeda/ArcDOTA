{
 "cells": [
  {
   "cell_type": "code",
   "execution_count": 1,
   "id": "e1f50e32",
   "metadata": {},
   "outputs": [],
   "source": [
    "import json\n",
    "import re\n",
    "import time\n",
    "import requests"
   ]
  },
  {
   "cell_type": "code",
   "execution_count": 2,
   "id": "f9377011",
   "metadata": {},
   "outputs": [],
   "source": [
    "f = open('output/out.json')\n",
    "data = json.load(f)"
   ]
  },
  {
   "cell_type": "code",
   "execution_count": 3,
   "id": "6dda9da0",
   "metadata": {},
   "outputs": [],
   "source": [
    "def handle_str(str):\n",
    "    return re.sub(\"[^A-Za-z]\",\"\", str).lower()\n",
    "\n",
    "def get_formatted_time(timeFormat, timestmap):\n",
    "    return time.strftime(timeFormat, time.localtime(timestmap))"
   ]
  },
  {
   "cell_type": "code",
   "execution_count": 4,
   "id": "fcd60cbf",
   "metadata": {},
   "outputs": [],
   "source": [
    "def try_find_match(startTime, homeTeam, awayTeam):\n",
    "    query = 'https://api.opendota.com/api/explorer?api_key=904f9ad6-8683-4825-93af-e8b06bd3409a&sql=select%0A%0Amatches.start_time%2C%0Amatches.match_id%2C%0Amatches.dire_team_id%2C%0Amatches.radiant_team_id%2C%0Aradiant_team.name%20as%20r_team_name%2C%0Adire_team.name%20as%20d_team_name%0A%0A%0AFROM%20matches%0A%0AJOIN%20teams%20radiant_team%0AON%20radiant_team.team_id%20%3D%20matches.radiant_team_id%0A%0AJOIN%20teams%20dire_team%0AON%20dire_team.team_id%20%3D%20matches.dire_team_id%0A%0A%0AWHERE%20matches.start_time%20%3E%20CONST_START_TIME-30%2A60%0AAND%20matches.start_time%20%3C%20CONST_START_TIME%2B30%2A60%0A%0AAND%20%28%28REPLACE%28REPLACE%28REPLACE%28REPLACE%28REPLACE%28REPLACE%28REPLACE%28REPLACE%28REPLACE%28REPLACE%28REPLACE%28REPLACE%28REPLACE%28REPLACE%28REPLACE%28REPLACE%28REPLACE%28REPLACE%28LOWER%28radiant_team.name%29%2C%20%27%20%27%2C%20%27%27%29%2C%20%271%27%2C%20%27%27%29%2C%20%272%27%2C%20%27%27%29%2C%20%273%27%2C%20%27%27%29%2C%20%274%27%2C%20%27%27%29%2C%20%275%27%2C%20%27%27%29%2C%20%276%27%2C%20%27%27%29%2C%20%277%27%2C%20%27%27%29%2C%20%278%27%2C%20%27%27%29%2C%20%279%27%2C%20%27%27%29%2C%20%27-%27%2C%20%27%27%29%2C%20%27%23%27%2C%20%27%27%29%2C%20%27%21%27%2C%20%27%27%29%2C%20%27%5B%27%2C%20%27%27%29%2C%20%27%5D%27%2C%20%27%27%29%2C%20%27%3A%27%2C%20%27%27%29%2C%20%270%27%2C%20%27%27%29%2C%20%27_%27%2C%20%27%27%29%20LIKE%20%27%25CONST_HOME_TEAM_NAME%25%27%20OR%20REPLACE%28REPLACE%28REPLACE%28REPLACE%28REPLACE%28REPLACE%28REPLACE%28REPLACE%28REPLACE%28REPLACE%28REPLACE%28REPLACE%28REPLACE%28REPLACE%28REPLACE%28REPLACE%28REPLACE%28REPLACE%28LOWER%28dire_team.name%29%2C%20%27%20%27%2C%20%27%27%29%2C%20%271%27%2C%20%27%27%29%2C%20%272%27%2C%20%27%27%29%2C%20%273%27%2C%20%27%27%29%2C%20%274%27%2C%20%27%27%29%2C%20%275%27%2C%20%27%27%29%2C%20%276%27%2C%20%27%27%29%2C%20%277%27%2C%20%27%27%29%2C%20%278%27%2C%20%27%27%29%2C%20%279%27%2C%20%27%27%29%2C%20%27-%27%2C%20%27%27%29%2C%20%27%23%27%2C%20%27%27%29%2C%20%27%21%27%2C%20%27%27%29%2C%20%27%5B%27%2C%20%27%27%29%2C%20%27%5D%27%2C%20%27%27%29%2C%20%27%3A%27%2C%20%27%27%29%2C%20%270%27%2C%20%27%27%29%2C%20%27_%27%2C%20%27%27%29%20LIKE%20%27%25CONST_HOME_TEAM_NAME%25%27%29%20OR%20%28REPLACE%28REPLACE%28REPLACE%28REPLACE%28REPLACE%28REPLACE%28REPLACE%28REPLACE%28REPLACE%28REPLACE%28REPLACE%28REPLACE%28REPLACE%28REPLACE%28REPLACE%28REPLACE%28REPLACE%28REPLACE%28LOWER%28radiant_team.name%29%2C%20%27%20%27%2C%20%27%27%29%2C%20%271%27%2C%20%27%27%29%2C%20%272%27%2C%20%27%27%29%2C%20%273%27%2C%20%27%27%29%2C%20%274%27%2C%20%27%27%29%2C%20%275%27%2C%20%27%27%29%2C%20%276%27%2C%20%27%27%29%2C%20%277%27%2C%20%27%27%29%2C%20%278%27%2C%20%27%27%29%2C%20%279%27%2C%20%27%27%29%2C%20%27-%27%2C%20%27%27%29%2C%20%27%23%27%2C%20%27%27%29%2C%20%27%21%27%2C%20%27%27%29%2C%20%27%5B%27%2C%20%27%27%29%2C%20%27%5D%27%2C%20%27%27%29%2C%20%27%3A%27%2C%20%27%27%29%2C%20%270%27%2C%20%27%27%29%2C%20%27_%27%2C%20%27%27%29%20LIKE%20%27%25CONST_AWAY_TEAM_NAME%25%27%20OR%20REPLACE%28REPLACE%28REPLACE%28REPLACE%28REPLACE%28REPLACE%28REPLACE%28REPLACE%28REPLACE%28REPLACE%28REPLACE%28REPLACE%28REPLACE%28REPLACE%28REPLACE%28REPLACE%28REPLACE%28REPLACE%28LOWER%28dire_team.name%29%2C%20%27%20%27%2C%20%27%27%29%2C%20%271%27%2C%20%27%27%29%2C%20%272%27%2C%20%27%27%29%2C%20%273%27%2C%20%27%27%29%2C%20%274%27%2C%20%27%27%29%2C%20%275%27%2C%20%27%27%29%2C%20%276%27%2C%20%27%27%29%2C%20%277%27%2C%20%27%27%29%2C%20%278%27%2C%20%27%27%29%2C%20%279%27%2C%20%27%27%29%2C%20%27-%27%2C%20%27%27%29%2C%20%27%23%27%2C%20%27%27%29%2C%20%27%21%27%2C%20%27%27%29%2C%20%27%5B%27%2C%20%27%27%29%2C%20%27%5D%27%2C%20%27%27%29%2C%20%27%3A%27%2C%20%27%27%29%2C%20%270%27%2C%20%27%27%29%2C%20%27_%27%2C%20%27%27%29%20LIKE%20%27%25CONST_AWAY_TEAM_NAME%25%27%29%29%0A%0ALIMIT%2050'\n",
    "    query = query.replace('CONST_START_TIME', startTime)\n",
    "    query = query.replace('CONST_HOME_TEAM_NAME', homeTeam)\n",
    "    query = query.replace('CONST_AWAY_TEAM_NAME', awayTeam)\n",
    "    return query"
   ]
  },
  {
   "cell_type": "code",
   "execution_count": 8,
   "id": "6631c50f",
   "metadata": {},
   "outputs": [],
   "source": [
    "matches = []\n",
    "start_time = time.time()\n",
    "for idx, game in enumerate(data):\n",
    "    try:\n",
    "        odds = game['odds']['Bet365']['odds']['start']['151_1']\n",
    "    except KeyError: continue\n",
    "    \n",
    "    if odds is None: continue\n",
    "    \n",
    "    r_odd, d_odd = float(odds['home_od']), float(odds['away_od'])\n",
    "        \n",
    "    gameDate = str(game['game']['time']).replace(' ', '')\n",
    "    homeTeam = handle_str(game['game']['home']['name'])\n",
    "    awayTeam = handle_str(game['game']['away']['name'])\n",
    "    \n",
    "    if (awayTeam == 'teamsolomid'):\n",
    "        awayTeam = 'TSM'\n",
    "        \n",
    "    query = try_find_match(gameDate, homeTeam, awayTeam)\n",
    "    response = requests.get(query)\n",
    "    \n",
    "    if (response.status_code == 200):\n",
    "        opendota_game = response.json()\n",
    "        if (opendota_game['rowCount'] == 1):\n",
    "            opendota_game = opendota_game['rows'][0]\n",
    "            matchId = opendota_game['match_id']\n",
    "            rTeamId = opendota_game['radiant_team_id']\n",
    "            dTeamId = opendota_game['dire_team_id']\n",
    "            rTeamName = opendota_game['r_team_name']\n",
    "            dTeamName = opendota_game['d_team_name']\n",
    "            \n",
    "\n",
    "            if homeTeam == handle_str(rTeamName) and awayTeam == handle_str(dTeamName):\n",
    "                odds = [r_odd, d_odd]\n",
    "                \n",
    "            elif homeTeam == handle_str(dTeamName) and awayTeam == handle_str(rTeamName):\n",
    "                odds = [d_odd, r_odd]\n",
    "                \n",
    "            else:continue\n",
    "                \n",
    "            matches.append([idx, matchId, rTeamId, dTeamId, rTeamName, dTeamName, odds[0], odds[1]])\n",
    "\n",
    "    else: print(response)\n",
    "        \n",
    "    # if idx > 0 and idx%60:\n",
    "    #     sleep_time = 60 - (time.time() - start_time)\n",
    "    #     start_time = time.time()\n",
    "    #     if sleep_time > 0: time.sleep(sleep_time)"
   ]
  },
  {
   "cell_type": "code",
   "execution_count": 10,
   "id": "3eb7eaa2",
   "metadata": {},
   "outputs": [
    {
     "data": {
      "text/plain": [
       "288"
      ]
     },
     "execution_count": 10,
     "metadata": {},
     "output_type": "execute_result"
    }
   ],
   "source": [
    "len(matches)"
   ]
  },
  {
   "cell_type": "code",
   "execution_count": 11,
   "id": "5c27d0ee-bb97-4c40-93aa-77c20afad939",
   "metadata": {},
   "outputs": [],
   "source": [
    "import pandas as pd"
   ]
  },
  {
   "cell_type": "code",
   "execution_count": 13,
   "id": "082f9879-193b-4f5c-9b4f-a5bcce9af44b",
   "metadata": {},
   "outputs": [],
   "source": [
    "df = pd.DataFrame(matches, columns=['id', 'match_id', 't_team_id', 'd_team_id', 'r_team_name', 'd_team_name', 'r_odd', 'd_odd'])"
   ]
  },
  {
   "cell_type": "code",
   "execution_count": 16,
   "id": "6791a983-294e-474e-827e-f1fbe87b1bef",
   "metadata": {},
   "outputs": [],
   "source": [
    "df.to_json('output/test_odds.json')"
   ]
  },
  {
   "cell_type": "code",
   "execution_count": 17,
   "id": "b504a50e-36f9-4861-aa10-34b0204565d1",
   "metadata": {},
   "outputs": [],
   "source": [
    "df.to_csv('output/test_odds.csv')"
   ]
  },
  {
   "cell_type": "code",
   "execution_count": 15,
   "id": "4c8ce3bf-0105-4579-b387-e0f3d3fa6080",
   "metadata": {},
   "outputs": [
    {
     "data": {
      "text/plain": [
       "(0.2222222222222222, 0.8576329331046313)"
      ]
     },
     "execution_count": 15,
     "metadata": {},
     "output_type": "execute_result"
    }
   ],
   "source": [
    "1/4.500, 1/1.166"
   ]
  },
  {
   "cell_type": "code",
   "execution_count": 27,
   "id": "c7f7d225",
   "metadata": {},
   "outputs": [],
   "source": [
    "out_file = open(\"output/odds\", \"w\")\n",
    "  \n",
    "json.dump(matches, out_file, indent = 6)\n",
    "  \n",
    "out_file.close()"
   ]
  },
  {
   "cell_type": "code",
   "execution_count": null,
   "id": "ec725ef3",
   "metadata": {},
   "outputs": [],
   "source": []
  }
 ],
 "metadata": {
  "kernelspec": {
   "display_name": "Python 3 (ipykernel)",
   "language": "python",
   "name": "python3"
  },
  "language_info": {
   "codemirror_mode": {
    "name": "ipython",
    "version": 3
   },
   "file_extension": ".py",
   "mimetype": "text/x-python",
   "name": "python",
   "nbconvert_exporter": "python",
   "pygments_lexer": "ipython3",
   "version": "3.10.4"
  }
 },
 "nbformat": 4,
 "nbformat_minor": 5
}
